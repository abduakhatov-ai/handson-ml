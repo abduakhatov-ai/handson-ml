{
 "cells": [
  {
   "cell_type": "markdown",
   "metadata": {},
   "source": [
    "**Acknowledgement**: This Jupyter Notebook is a forked supplement for [Hands-on Machine Learning with Scikit-Learn and TensorFlow](http://shop.oreilly.com/product/0636920052289.do) book by A. Geron. Apart from minor additions, I do not share the credit for this work.\n",
    "\n",
    "**GitHub Repo**: https://github.com/desmonduz/handson-ml.git\n",
    "\n",
    "**References**:\n",
    "\n",
    "- [Hands-on Machine Learning with Scikit-Learn and TensorFlow](http://shop.oreilly.com/product/0636920052289.do) \n",
    "- [Andrew Ng's Machine Learning Coursera course](https://www.coursera.org/learn/machine-learning/supplement/1O0Bk/unsupervised-learning)\n",
    "- [Yaser Abu-Mostafa's Learning From Data course](https://work.caltech.edu/telecourse.html)\n",
    "- [OCDevel's Podcast of Machine Learning](http://ocdevel.com/podcasts/machine-learning)"
   ]
  },
  {
   "cell_type": "markdown",
   "metadata": {},
   "source": [
    "### What is AI?\n",
    "\n",
    "A study of \"intelligent agents\": any device that perceives its environment and takes actions that maximize its chance of successfully achieving its goals\n",
    "\n",
    "#### Subfields:\n",
    "- Search & Planning\n",
    "- Reasoning and Knowledge Representation\n",
    "- Perception\n",
    "- Robotics (ability to take actions in given context)\n",
    "- Natural language processing (communication)\n",
    "- Autonomous Agents and Multi-Agent Systems\n",
    "- Machine Learning\n",
    "\n",
    "and more...\n"
   ]
  },
  {
   "cell_type": "markdown",
   "metadata": {
    "nbpresent": {
     "id": "ee6832ec-f6ca-42f1-965a-86d3bd078aae"
    }
   },
   "source": [
    "### What is Machine Learning?\n",
    "\n",
    "> Machine learning is the field of study that gives computers the ability to learn without being explicitly programmed\n",
    "> - Arthur Samuel, 1959\n",
    "\n",
    "Or\n",
    "\n",
    "> A computer program is said to learn from experience E with respect to some task T and some performance measure P, if its performance on T, as measured by P improved by experience E.\n",
    "> Tom Mitchell, 1997"
   ]
  },
  {
   "cell_type": "markdown",
   "metadata": {},
   "source": [
    "### Supervised Learning\n",
    "\n",
    "In supervised learning we train a model with a given dataset to predict expected outcome for us. Supervised learning problems are categorized into \"regression\" and \"classification\" problems. \n",
    "\n",
    "In a regression problem, we are trying to predict results within a continuous output, meaning that we are trying to map input variables to some continuous function. \n",
    "\n",
    "In a classification problem, we are instead trying to predict results in a discrete output. In other words, we are trying to map input variables into discrete categories.\n",
    "\n",
    "#### Example\n",
    "\n",
    "(a) Regression - Given a picture of a person, we have to predict their age on the basis of the given picture\n",
    "\n",
    "(b) Classification - Given a patient with a tumor, we have to predict whether the tumor is malignant or benign.\n",
    "\n",
    "#### Models and Algorithms\n",
    "\n",
    "- Linear Regression*\n",
    "- Logistic Regression*\n",
    "- k-Nearest Neigbours\n",
    "- Support Vector Machines\n",
    "- Decision Trees and Random Forests\n",
    "- Artificial Neural Networks"
   ]
  },
  {
   "cell_type": "markdown",
   "metadata": {},
   "source": [
    "### Unsupervised Learning\n",
    "\n",
    "Unsupervised learning allows us to approach problems with little or no idea what our results should look like. We can derive structure from data where we don't necessarily know the effect of the variables.\n",
    "\n",
    "We can derive this structure by clustering the data based on relationships among the variables in the data.\n",
    "\n",
    "With unsupervised learning there is no feedback based on the prediction results.\n",
    "\n",
    "#### Example:\n",
    "\n",
    "Clustering: Take a collection of 1,000,000 different genes, and find a way to automatically group these genes into groups that are somehow similar or related by different variables, such as lifespan, location, roles, and so on.\n",
    "\n",
    "Non-clustering: The \"Cocktail Party Algorithm\", allows you to find structure in a chaotic environment. (i.e. identifying individual voices and music from a mesh of sounds at a cocktail party).\n",
    "\n",
    "#### Models and Algorithms\n",
    "\n",
    "- k-Means\n",
    "- Hierarchical cluster analysis\n",
    "- Principal Component Analysis (PCA) and Kernel PCA\n",
    "- Locally linear embedding\n",
    "- t-distributed stochastic neighbour embedding\n"
   ]
  },
  {
   "cell_type": "markdown",
   "metadata": {},
   "source": [
    "## \"Hello World\" Example\n",
    "\n",
    "This function just merges the OECD's life satisfaction data and the IMF's GDP per capita data. It's a bit too long and boring and it's not specific to Machine Learning, which is why I left it out of the book."
   ]
  },
  {
   "cell_type": "code",
   "execution_count": null,
   "metadata": {
    "collapsed": true
   },
   "outputs": [],
   "source": [
    "def prepare_country_stats(oecd_bli, gdp_per_capita):\n",
    "    oecd_bli = oecd_bli[oecd_bli[\"INEQUALITY\"]==\"TOT\"]\n",
    "    oecd_bli = oecd_bli.pivot(index=\"Country\", columns=\"Indicator\", values=\"Value\")\n",
    "    gdp_per_capita.rename(columns={\"2015\": \"GDP per capita\"}, inplace=True)\n",
    "    gdp_per_capita.set_index(\"Country\", inplace=True)\n",
    "    full_country_stats = pd.merge(left=oecd_bli, right=gdp_per_capita,\n",
    "                                  left_index=True, right_index=True)\n",
    "    full_country_stats.sort_values(by=\"GDP per capita\", inplace=True)\n",
    "    remove_indices = [0, 1, 6, 8, 33, 34, 35]\n",
    "    keep_indices = list(set(range(36)) - set(remove_indices))\n",
    "    return full_country_stats[[\"GDP per capita\", 'Life satisfaction']].iloc[keep_indices]"
   ]
  },
  {
   "cell_type": "code",
   "execution_count": null,
   "metadata": {
    "collapsed": false
   },
   "outputs": [],
   "source": [
    "import os\n",
    "datapath = os.path.join(\"datasets\", \"lifesat\", \"\")\n",
    "\n",
    "# Code example\n",
    "import matplotlib\n",
    "import matplotlib.pyplot as plt\n",
    "import numpy as np\n",
    "import pandas as pd\n",
    "import sklearn.linear_model\n",
    "\n",
    "# Load the data\n",
    "oecd_bli = pd.read_csv(datapath + \"oecd_bli_2015.csv\", thousands=',')\n",
    "gdp_per_capita = pd.read_csv(datapath + \"gdp_per_capita.csv\",thousands=',',delimiter='\\t',\n",
    "                             encoding='latin1', na_values=\"n/a\")\n",
    "\n",
    "# Prepare the data\n",
    "country_stats = prepare_country_stats(oecd_bli, gdp_per_capita)\n",
    "X = np.c_[country_stats[\"GDP per capita\"]]\n",
    "y = np.c_[country_stats[\"Life satisfaction\"]]\n",
    "\n",
    "# Visualize the data\n",
    "country_stats.plot(kind='scatter', x=\"GDP per capita\", y='Life satisfaction')\n",
    "plt.show()\n",
    "\n",
    "# Select a linear model\n",
    "model = sklearn.linear_model.LinearRegression()\n",
    "\n",
    "# Train the model\n",
    "model.fit(X, y)\n",
    "\n",
    "# Make a prediction for Cyprus\n",
    "X_new = [[22587]]  # Cyprus' GDP per capita\n",
    "print(model.predict(X_new)) # outputs [[ 5.96242338]]"
   ]
  },
  {
   "cell_type": "markdown",
   "metadata": {
    "nbpresent": {
     "id": "966ab8ca-df89-42fc-a25d-1aa92df875d7"
    }
   },
   "source": [
    "## End-to-end Machine Learning project\n",
    "\n",
    "*Welcome to Machine Learning Housing Corp.! Your task is to predict median house values in Californian districts, given a number of features from these districts.*\n",
    "\n",
    "*This notebook contains all the sample code and solutions to the exercices in chapter 2.*"
   ]
  },
  {
   "cell_type": "markdown",
   "metadata": {
    "nbpresent": {
     "id": "3d7ccf09-8fdc-4916-91af-7ab941559e09"
    }
   },
   "source": [
    "**Note**: You may find little differences between the code outputs in the book and in these Jupyter notebooks: these slight differences are mostly due to the random nature of many training algorithms: although I have tried to make these notebooks' outputs as constant as possible, it is impossible to guarantee that they will produce the exact same output on every platform. Also, some data structures (such as dictionaries) do not preserve the item order. Finally, I fixed a few minor bugs (I added notes next to the concerned cells) which lead to slightly different results, without changing the ideas presented in the book."
   ]
  },
  {
   "cell_type": "markdown",
   "metadata": {
    "nbpresent": {
     "id": "efe1cfaf-22c7-4aac-8991-e4692aed0f76"
    }
   },
   "source": [
    "### Setup"
   ]
  },
  {
   "cell_type": "markdown",
   "metadata": {
    "nbpresent": {
     "id": "f9067562-c627-41ca-8787-f5c4235dfe0d"
    }
   },
   "source": [
    "First, let's make sure this notebook works well in both python 2 and 3, import a few common modules, ensure MatplotLib plots figures inline and prepare a function to save the figures:"
   ]
  },
  {
   "cell_type": "code",
   "execution_count": null,
   "metadata": {
    "collapsed": true,
    "nbpresent": {
     "id": "14231eb8-c2d7-4b90-84d5-0aa6aca61df8"
    }
   },
   "outputs": [],
   "source": [
    "# To support both python 2 and python 3\n",
    "from __future__ import division, print_function, unicode_literals\n",
    "\n",
    "# Common imports\n",
    "import numpy as np\n",
    "import os\n",
    "\n",
    "# to make this notebook's output stable across runs\n",
    "np.random.seed(42)\n",
    "\n",
    "# To plot pretty figures\n",
    "%matplotlib inline\n",
    "import matplotlib\n",
    "import matplotlib.pyplot as plt\n",
    "plt.rcParams['axes.labelsize'] = 14\n",
    "plt.rcParams['xtick.labelsize'] = 12\n",
    "plt.rcParams['ytick.labelsize'] = 12\n",
    "\n",
    "# Where to save the figures\n",
    "PROJECT_ROOT_DIR = \".\"\n",
    "CHAPTER_ID = \"end_to_end_project\"\n",
    "IMAGES_PATH = os.path.join(PROJECT_ROOT_DIR, \"images\", CHAPTER_ID)\n",
    "\n",
    "def save_fig(fig_id, tight_layout=True, fig_extension=\"png\", resolution=300):\n",
    "    path = os.path.join(IMAGES_PATH, fig_id + \".\" + fig_extension)\n",
    "    print(\"Saving figure\", fig_id)\n",
    "    if tight_layout:\n",
    "        plt.tight_layout()\n",
    "    plt.savefig(path, format=fig_extension, dpi=resolution)\n",
    "\n",
    "# Ignore useless warnings (see SciPy issue #5998)\n",
    "import warnings\n",
    "warnings.filterwarnings(action=\"ignore\", module=\"scipy\", message=\"^internal gelsd\")"
   ]
  },
  {
   "cell_type": "markdown",
   "metadata": {
    "nbpresent": {
     "id": "41f15bbf-0842-454e-85b7-a3c642112376"
    }
   },
   "source": [
    "## Framing the problem\n",
    "\n",
    "![title](images/end_to_end_project/1.png)\n",
    "\n",
    "## Check assumptions about data\n",
    "\n",
    "- What kind of assumptions are we making about data?\n",
    "- Which features are assumed to be relevant to our prediction?\n",
    "- What type of prediction output do we expect?\n",
    "\n",
    "## Select model\n",
    "\n",
    "- How can this problem be tackled? Using supervised learning, unsupervised learning or reinforcmenet learning?\n",
    "- Which ML method should we use? Linear regression, logistic regression.\n",
    "- Which hypothesis function, cost function and learning algorithm should we select?\n",
    "\n",
    "## Get the data\n",
    "\n",
    "### Where to get data?\n",
    "\n",
    "- (UCI Machine Learning Repository)[http://archive.ics.uci.edu/ml/]\n",
    "- Kaggle datasets\n",
    "- Amazon's AWS datasets\n",
    "- dataportals.org\n",
    "- opendatamonitor.eu\n",
    "- data.gov.uz\n",
    "\n",
    "We will experiment with California Housing Prices repo from StatLib repository"
   ]
  },
  {
   "cell_type": "code",
   "execution_count": null,
   "metadata": {
    "collapsed": true,
    "nbpresent": {
     "id": "cd37c48a-e40e-4295-b306-bd65c187b918"
    }
   },
   "outputs": [],
   "source": [
    "import os\n",
    "import tarfile\n",
    "from six.moves import urllib\n",
    "\n",
    "DOWNLOAD_ROOT = \"https://raw.githubusercontent.com/ageron/handson-ml/master/\"\n",
    "HOUSING_PATH = os.path.join(\"datasets\", \"housing\")\n",
    "HOUSING_URL = DOWNLOAD_ROOT + \"datasets/housing/housing.tgz\"\n",
    "\n",
    "def fetch_housing_data(housing_url=HOUSING_URL, housing_path=HOUSING_PATH):\n",
    "    if not os.path.isdir(housing_path):\n",
    "        os.makedirs(housing_path)\n",
    "    tgz_path = os.path.join(housing_path, \"housing.tgz\")\n",
    "    urllib.request.urlretrieve(housing_url, tgz_path)\n",
    "    housing_tgz = tarfile.open(tgz_path)\n",
    "    housing_tgz.extractall(path=housing_path)\n",
    "    housing_tgz.close()"
   ]
  },
  {
   "cell_type": "code",
   "execution_count": null,
   "metadata": {
    "collapsed": true,
    "nbpresent": {
     "id": "f08f6576-d10f-4e89-bc0d-ec08c5acb069"
    }
   },
   "outputs": [],
   "source": [
    "fetch_housing_data()"
   ]
  },
  {
   "cell_type": "code",
   "execution_count": null,
   "metadata": {
    "collapsed": true,
    "nbpresent": {
     "id": "d9b9438d-9f53-4567-bec6-3e7643d41001"
    }
   },
   "outputs": [],
   "source": [
    "import pandas as pd\n",
    "\n",
    "def load_housing_data(housing_path=HOUSING_PATH):\n",
    "    csv_path = os.path.join(housing_path, \"housing.csv\")\n",
    "    return pd.read_csv(csv_path)"
   ]
  },
  {
   "cell_type": "code",
   "execution_count": null,
   "metadata": {
    "collapsed": false,
    "nbpresent": {
     "id": "e8382eec-5621-4992-b762-8cf79c82ee75"
    }
   },
   "outputs": [],
   "source": [
    "housing = load_housing_data()\n",
    "housing.head()"
   ]
  },
  {
   "cell_type": "code",
   "execution_count": null,
   "metadata": {
    "collapsed": false,
    "nbpresent": {
     "id": "e4b0564b-427b-4884-8027-7830ad2fc222"
    }
   },
   "outputs": [],
   "source": [
    "housing.info()"
   ]
  },
  {
   "cell_type": "code",
   "execution_count": null,
   "metadata": {
    "collapsed": false,
    "nbpresent": {
     "id": "95a86402-8e27-4f79-951f-93b65143db1d"
    }
   },
   "outputs": [],
   "source": [
    "housing[\"ocean_proximity\"].value_counts()"
   ]
  },
  {
   "cell_type": "code",
   "execution_count": null,
   "metadata": {
    "collapsed": false,
    "nbpresent": {
     "id": "74c36ca7-53e3-43fa-8c9c-5463683f2aec"
    }
   },
   "outputs": [],
   "source": [
    "housing.describe()"
   ]
  },
  {
   "cell_type": "code",
   "execution_count": null,
   "metadata": {
    "collapsed": false,
    "nbpresent": {
     "id": "f6f0d163-08b8-40cc-88f6-d0afe79b6206"
    }
   },
   "outputs": [],
   "source": [
    "%matplotlib inline\n",
    "import matplotlib.pyplot as plt\n",
    "housing.hist(bins=50, figsize=(20,15))\n",
    "save_fig(\"attribute_histogram_plots\")\n",
    "plt.show()"
   ]
  },
  {
   "cell_type": "code",
   "execution_count": null,
   "metadata": {
    "collapsed": true,
    "nbpresent": {
     "id": "9726f904-2fdb-48d1-8d16-10dc6ca0e428"
    }
   },
   "outputs": [],
   "source": [
    "# to make this notebook's output identical at every run\n",
    "np.random.seed(42)"
   ]
  },
  {
   "cell_type": "code",
   "execution_count": null,
   "metadata": {
    "collapsed": true,
    "nbpresent": {
     "id": "43696442-22c2-4789-ad80-ca37e033232e"
    }
   },
   "outputs": [],
   "source": [
    "import numpy as np\n",
    "\n",
    "# For illustration only. Sklearn has train_test_split()\n",
    "def split_train_test(data, test_ratio):\n",
    "    shuffled_indices = np.random.permutation(len(data))\n",
    "    test_set_size = int(len(data) * test_ratio)\n",
    "    test_indices = shuffled_indices[:test_set_size]\n",
    "    train_indices = shuffled_indices[test_set_size:]\n",
    "    return data.iloc[train_indices], data.iloc[test_indices]"
   ]
  },
  {
   "cell_type": "code",
   "execution_count": null,
   "metadata": {
    "collapsed": false,
    "nbpresent": {
     "id": "bfcfb4f6-0376-476b-b800-ea6e84ae37f8"
    }
   },
   "outputs": [],
   "source": [
    "train_set, test_set = split_train_test(housing, 0.2)\n",
    "print(len(train_set), \"train +\", len(test_set), \"test\")"
   ]
  },
  {
   "cell_type": "code",
   "execution_count": null,
   "metadata": {
    "collapsed": true,
    "nbpresent": {
     "id": "d810c1ce-44d5-4cd2-9bec-881b90503bb5"
    }
   },
   "outputs": [],
   "source": [
    "from zlib import crc32\n",
    "\n",
    "def test_set_check(identifier, test_ratio):\n",
    "    return crc32(np.int64(identifier)) & 0xffffffff < test_ratio * 2**32\n",
    "\n",
    "def split_train_test_by_id(data, test_ratio, id_column):\n",
    "    ids = data[id_column]\n",
    "    in_test_set = ids.apply(lambda id_: test_set_check(id_, test_ratio))\n",
    "    return data.loc[~in_test_set], data.loc[in_test_set]"
   ]
  },
  {
   "cell_type": "markdown",
   "metadata": {
    "nbpresent": {
     "id": "80a1a79d-e078-42af-9c37-30d34e6c7140"
    }
   },
   "source": [
    "The implementation of `test_set_check()` above works fine in both Python 2 and Python 3. In earlier releases, the following implementation was proposed, which supported any hash function, but was much slower and did not support Python 2:"
   ]
  },
  {
   "cell_type": "code",
   "execution_count": null,
   "metadata": {
    "collapsed": true,
    "nbpresent": {
     "id": "b0bab1ae-4f81-46b9-9206-a1f3285e2300"
    }
   },
   "outputs": [],
   "source": [
    "import hashlib\n",
    "\n",
    "def test_set_check(identifier, test_ratio, hash=hashlib.md5):\n",
    "    return hash(np.int64(identifier)).digest()[-1] < 256 * test_ratio"
   ]
  },
  {
   "cell_type": "markdown",
   "metadata": {
    "nbpresent": {
     "id": "4b9a8590-532c-4dd9-a62b-4ff1e9b35910"
    }
   },
   "source": [
    "If you want an implementation that supports any hash function and is compatible with both Python 2 and Python 3, here is one:"
   ]
  },
  {
   "cell_type": "code",
   "execution_count": null,
   "metadata": {
    "collapsed": true,
    "nbpresent": {
     "id": "28ae5811-e106-4a6d-a817-c4613af3ca03"
    }
   },
   "outputs": [],
   "source": [
    "def test_set_check(identifier, test_ratio, hash=hashlib.md5):\n",
    "    return bytearray(hash(np.int64(identifier)).digest())[-1] < 256 * test_ratio"
   ]
  },
  {
   "cell_type": "code",
   "execution_count": null,
   "metadata": {
    "collapsed": true,
    "nbpresent": {
     "id": "aa8967e9-a819-477b-82e4-4c26d15c85e9"
    }
   },
   "outputs": [],
   "source": [
    "housing_with_id = housing.reset_index()   # adds an `index` column\n",
    "train_set, test_set = split_train_test_by_id(housing_with_id, 0.2, \"index\")"
   ]
  },
  {
   "cell_type": "code",
   "execution_count": null,
   "metadata": {
    "collapsed": true,
    "nbpresent": {
     "id": "f5f313ab-58b0-4777-b52a-bee7bb2d42d1"
    }
   },
   "outputs": [],
   "source": [
    "housing_with_id[\"id\"] = housing[\"longitude\"] * 1000 + housing[\"latitude\"]\n",
    "train_set, test_set = split_train_test_by_id(housing_with_id, 0.2, \"id\")"
   ]
  },
  {
   "cell_type": "code",
   "execution_count": null,
   "metadata": {
    "collapsed": false,
    "nbpresent": {
     "id": "76cc6655-778b-4819-957b-ae858b836a2a"
    }
   },
   "outputs": [],
   "source": [
    "test_set.head()"
   ]
  },
  {
   "cell_type": "code",
   "execution_count": null,
   "metadata": {
    "collapsed": true,
    "nbpresent": {
     "id": "c9d05c4c-109c-40fa-9505-81d1489dfe3e"
    }
   },
   "outputs": [],
   "source": [
    "from sklearn.model_selection import train_test_split\n",
    "\n",
    "train_set, test_set = train_test_split(housing, test_size=0.2, random_state=42)"
   ]
  },
  {
   "cell_type": "code",
   "execution_count": null,
   "metadata": {
    "collapsed": false,
    "nbpresent": {
     "id": "05913461-1398-4e2e-b726-9467db27b298"
    }
   },
   "outputs": [],
   "source": [
    "test_set.head()"
   ]
  },
  {
   "cell_type": "code",
   "execution_count": null,
   "metadata": {
    "collapsed": false,
    "nbpresent": {
     "id": "2f1f5f5d-30ba-48cd-9554-20b6f64ba10f"
    }
   },
   "outputs": [],
   "source": [
    "housing[\"median_income\"].hist()"
   ]
  },
  {
   "cell_type": "code",
   "execution_count": null,
   "metadata": {
    "collapsed": true,
    "nbpresent": {
     "id": "ccf773db-80b7-4b7c-8537-a156a3ebb33f"
    }
   },
   "outputs": [],
   "source": [
    "# Divide by 1.5 to limit the number of income categories\n",
    "housing[\"income_cat\"] = np.ceil(housing[\"median_income\"] / 1.5)\n",
    "# Label those above 5 as 5\n",
    "housing[\"income_cat\"].where(housing[\"income_cat\"] < 5, 5.0, inplace=True)"
   ]
  },
  {
   "cell_type": "code",
   "execution_count": null,
   "metadata": {
    "collapsed": false,
    "nbpresent": {
     "id": "b8bcbac2-1c87-4076-bf43-34016781cfc7"
    }
   },
   "outputs": [],
   "source": [
    "housing[\"income_cat\"].value_counts()"
   ]
  },
  {
   "cell_type": "code",
   "execution_count": null,
   "metadata": {
    "collapsed": false,
    "nbpresent": {
     "id": "8960e3e8-85ac-439a-a798-aa3bc627e2b2"
    }
   },
   "outputs": [],
   "source": [
    "housing[\"income_cat\"].hist()"
   ]
  },
  {
   "cell_type": "code",
   "execution_count": null,
   "metadata": {
    "collapsed": true,
    "nbpresent": {
     "id": "d896e7a7-b833-4c1e-b84a-14a0fc217f76"
    }
   },
   "outputs": [],
   "source": [
    "from sklearn.model_selection import StratifiedShuffleSplit\n",
    "\n",
    "split = StratifiedShuffleSplit(n_splits=1, test_size=0.2, random_state=42)\n",
    "for train_index, test_index in split.split(housing, housing[\"income_cat\"]):\n",
    "    strat_train_set = housing.loc[train_index]\n",
    "    strat_test_set = housing.loc[test_index]"
   ]
  },
  {
   "cell_type": "code",
   "execution_count": null,
   "metadata": {
    "collapsed": false,
    "nbpresent": {
     "id": "766d8692-8a01-4da9-a3a0-d7e6525852a2"
    }
   },
   "outputs": [],
   "source": [
    "strat_test_set[\"income_cat\"].value_counts() / len(strat_test_set)"
   ]
  },
  {
   "cell_type": "code",
   "execution_count": null,
   "metadata": {
    "collapsed": false,
    "nbpresent": {
     "id": "a949812c-05fa-40e2-9d99-ce5b3a665b9e"
    }
   },
   "outputs": [],
   "source": [
    "housing[\"income_cat\"].value_counts() / len(housing)"
   ]
  },
  {
   "cell_type": "code",
   "execution_count": null,
   "metadata": {
    "collapsed": true,
    "nbpresent": {
     "id": "2689cf1f-caa1-43f9-8c04-d1d20052c193"
    }
   },
   "outputs": [],
   "source": [
    "def income_cat_proportions(data):\n",
    "    return data[\"income_cat\"].value_counts() / len(data)\n",
    "\n",
    "train_set, test_set = train_test_split(housing, test_size=0.2, random_state=42)\n",
    "\n",
    "compare_props = pd.DataFrame({\n",
    "    \"Overall\": income_cat_proportions(housing),\n",
    "    \"Stratified\": income_cat_proportions(strat_test_set),\n",
    "    \"Random\": income_cat_proportions(test_set),\n",
    "}).sort_index()\n",
    "compare_props[\"Rand. %error\"] = 100 * compare_props[\"Random\"] / compare_props[\"Overall\"] - 100\n",
    "compare_props[\"Strat. %error\"] = 100 * compare_props[\"Stratified\"] / compare_props[\"Overall\"] - 100"
   ]
  },
  {
   "cell_type": "code",
   "execution_count": null,
   "metadata": {
    "collapsed": false,
    "nbpresent": {
     "id": "4116414e-992d-4e16-a411-d9790027c8e2"
    }
   },
   "outputs": [],
   "source": [
    "compare_props"
   ]
  },
  {
   "cell_type": "code",
   "execution_count": null,
   "metadata": {
    "collapsed": true,
    "nbpresent": {
     "id": "17a1f4bb-573f-4246-aa82-485f3851361d"
    }
   },
   "outputs": [],
   "source": [
    "for set_ in (strat_train_set, strat_test_set):\n",
    "    set_.drop(\"income_cat\", axis=1, inplace=True)"
   ]
  },
  {
   "cell_type": "markdown",
   "metadata": {
    "nbpresent": {
     "id": "e5622b75-2ce3-4b18-bb92-1f724985cc5e"
    }
   },
   "source": [
    "# Discover and visualize the data to gain insights"
   ]
  },
  {
   "cell_type": "code",
   "execution_count": null,
   "metadata": {
    "collapsed": true,
    "nbpresent": {
     "id": "753e770a-9a22-4456-844f-93b9f1b10527"
    }
   },
   "outputs": [],
   "source": [
    "housing = strat_train_set.copy()"
   ]
  },
  {
   "cell_type": "code",
   "execution_count": null,
   "metadata": {
    "collapsed": false,
    "nbpresent": {
     "id": "77844b2b-4f87-44dd-91e4-17dbae0a5fe7"
    }
   },
   "outputs": [],
   "source": [
    "housing.plot(kind=\"scatter\", x=\"longitude\", y=\"latitude\")\n",
    "save_fig(\"bad_visualization_plot\")"
   ]
  },
  {
   "cell_type": "code",
   "execution_count": null,
   "metadata": {
    "collapsed": false,
    "nbpresent": {
     "id": "75fcc208-5db2-400b-916b-6a5cc6f689d9"
    }
   },
   "outputs": [],
   "source": [
    "housing.plot(kind=\"scatter\", x=\"longitude\", y=\"latitude\", alpha=0.1)\n",
    "save_fig(\"better_visualization_plot\")"
   ]
  },
  {
   "cell_type": "markdown",
   "metadata": {
    "nbpresent": {
     "id": "2aa95a29-0633-49b8-b92e-1d62ab7d0289"
    }
   },
   "source": [
    "The argument `sharex=False` fixes a display bug (the x-axis values and legend were not displayed). This is a temporary fix (see: https://github.com/pandas-dev/pandas/issues/10611). Thanks to Wilmer Arellano for pointing it out."
   ]
  },
  {
   "cell_type": "code",
   "execution_count": null,
   "metadata": {
    "collapsed": false,
    "nbpresent": {
     "id": "e07b8655-036d-4185-9f5e-f7cdf0d6deb8"
    }
   },
   "outputs": [],
   "source": [
    "housing.plot(kind=\"scatter\", x=\"longitude\", y=\"latitude\", alpha=0.4,\n",
    "    s=housing[\"population\"]/100, label=\"population\", figsize=(10,7),\n",
    "    c=\"median_house_value\", cmap=plt.get_cmap(\"jet\"), colorbar=True,\n",
    "    sharex=False)\n",
    "plt.legend()\n",
    "save_fig(\"housing_prices_scatterplot\")"
   ]
  },
  {
   "cell_type": "code",
   "execution_count": null,
   "metadata": {
    "collapsed": false,
    "nbpresent": {
     "id": "f1f834ce-c006-41f4-a3a0-c979155839db"
    }
   },
   "outputs": [],
   "source": [
    "import matplotlib.image as mpimg\n",
    "california_img=mpimg.imread(PROJECT_ROOT_DIR + '/images/end_to_end_project/california.png')\n",
    "ax = housing.plot(kind=\"scatter\", x=\"longitude\", y=\"latitude\", figsize=(10,7),\n",
    "                       s=housing['population']/100, label=\"Population\",\n",
    "                       c=\"median_house_value\", cmap=plt.get_cmap(\"jet\"),\n",
    "                       colorbar=False, alpha=0.4,\n",
    "                      )\n",
    "plt.imshow(california_img, extent=[-124.55, -113.80, 32.45, 42.05], alpha=0.5,\n",
    "           cmap=plt.get_cmap(\"jet\"))\n",
    "plt.ylabel(\"Latitude\", fontsize=14)\n",
    "plt.xlabel(\"Longitude\", fontsize=14)\n",
    "\n",
    "prices = housing[\"median_house_value\"]\n",
    "tick_values = np.linspace(prices.min(), prices.max(), 11)\n",
    "cbar = plt.colorbar()\n",
    "cbar.ax.set_yticklabels([\"$%dk\"%(round(v/1000)) for v in tick_values], fontsize=14)\n",
    "cbar.set_label('Median House Value', fontsize=16)\n",
    "\n",
    "plt.legend(fontsize=16)\n",
    "save_fig(\"california_housing_prices_plot\")\n",
    "plt.show()"
   ]
  },
  {
   "cell_type": "code",
   "execution_count": null,
   "metadata": {
    "collapsed": true,
    "nbpresent": {
     "id": "c41af29c-1b70-4a75-b415-fe26d88cc281"
    }
   },
   "outputs": [],
   "source": [
    "corr_matrix = housing.corr()"
   ]
  },
  {
   "cell_type": "code",
   "execution_count": null,
   "metadata": {
    "collapsed": false,
    "nbpresent": {
     "id": "dce30a8d-acf4-463d-a310-6aab9e55def9"
    }
   },
   "outputs": [],
   "source": [
    "corr_matrix[\"median_house_value\"].sort_values(ascending=False)"
   ]
  },
  {
   "cell_type": "code",
   "execution_count": null,
   "metadata": {
    "collapsed": false,
    "nbpresent": {
     "id": "db0ecdb9-cea7-466e-889d-04fd1ec453cd"
    }
   },
   "outputs": [],
   "source": [
    "# from pandas.tools.plotting import scatter_matrix # For older versions of Pandas\n",
    "from pandas.plotting import scatter_matrix\n",
    "\n",
    "attributes = [\"median_house_value\", \"median_income\", \"total_rooms\",\n",
    "              \"housing_median_age\"]\n",
    "scatter_matrix(housing[attributes], figsize=(12, 8))\n",
    "save_fig(\"scatter_matrix_plot\")"
   ]
  },
  {
   "cell_type": "code",
   "execution_count": null,
   "metadata": {
    "collapsed": false,
    "nbpresent": {
     "id": "4688f260-006a-4146-bd49-098ea4dcb1d9"
    }
   },
   "outputs": [],
   "source": [
    "housing.plot(kind=\"scatter\", x=\"median_income\", y=\"median_house_value\",\n",
    "             alpha=0.1)\n",
    "plt.axis([0, 16, 0, 550000])\n",
    "save_fig(\"income_vs_house_value_scatterplot\")"
   ]
  },
  {
   "cell_type": "code",
   "execution_count": null,
   "metadata": {
    "collapsed": true,
    "nbpresent": {
     "id": "59456824-7e5a-4b66-b16d-3bec660a39cb"
    }
   },
   "outputs": [],
   "source": [
    "housing[\"rooms_per_household\"] = housing[\"total_rooms\"]/housing[\"households\"]\n",
    "housing[\"bedrooms_per_room\"] = housing[\"total_bedrooms\"]/housing[\"total_rooms\"]\n",
    "housing[\"population_per_household\"]=housing[\"population\"]/housing[\"households\"]"
   ]
  },
  {
   "cell_type": "markdown",
   "metadata": {
    "nbpresent": {
     "id": "67ffc2e1-3271-400e-b833-68c43e3f4431"
    }
   },
   "source": [
    "Note: there was a bug in the previous cell, in the definition of the `rooms_per_household` attribute. This explains why the correlation value below differs slightly from the value in the book (unless you are reading the latest version)."
   ]
  },
  {
   "cell_type": "code",
   "execution_count": null,
   "metadata": {
    "collapsed": false,
    "nbpresent": {
     "id": "cf1b8efd-46b1-45d0-9c0e-b331c72a1547"
    }
   },
   "outputs": [],
   "source": [
    "corr_matrix = housing.corr()\n",
    "corr_matrix[\"median_house_value\"].sort_values(ascending=False)"
   ]
  },
  {
   "cell_type": "code",
   "execution_count": null,
   "metadata": {
    "collapsed": false,
    "nbpresent": {
     "id": "1e8793e7-44ee-4b2d-8995-a0b984b6dbf0"
    }
   },
   "outputs": [],
   "source": [
    "housing.plot(kind=\"scatter\", x=\"rooms_per_household\", y=\"median_house_value\",\n",
    "             alpha=0.2)\n",
    "plt.axis([0, 5, 0, 520000])\n",
    "plt.show()"
   ]
  },
  {
   "cell_type": "code",
   "execution_count": null,
   "metadata": {
    "collapsed": false,
    "nbpresent": {
     "id": "af7156d5-54c6-4241-8969-9593473193c9"
    }
   },
   "outputs": [],
   "source": [
    "housing.describe()"
   ]
  },
  {
   "cell_type": "markdown",
   "metadata": {
    "nbpresent": {
     "id": "2cd7e921-248e-4880-8b09-c5cd3446fc05"
    }
   },
   "source": [
    "# Prepare the data for Machine Learning algorithms"
   ]
  },
  {
   "cell_type": "code",
   "execution_count": null,
   "metadata": {
    "collapsed": true,
    "nbpresent": {
     "id": "54b092e7-fe51-40cf-af5f-16e0d8b1d8bb"
    }
   },
   "outputs": [],
   "source": [
    "housing = strat_train_set.drop(\"median_house_value\", axis=1) # drop labels for training set\n",
    "housing_labels = strat_train_set[\"median_house_value\"].copy()"
   ]
  },
  {
   "cell_type": "code",
   "execution_count": null,
   "metadata": {
    "collapsed": false,
    "nbpresent": {
     "id": "9d31bf73-375c-4c5b-b033-5506772676ce"
    }
   },
   "outputs": [],
   "source": [
    "sample_incomplete_rows = housing[housing.isnull().any(axis=1)].head()\n",
    "sample_incomplete_rows"
   ]
  },
  {
   "cell_type": "code",
   "execution_count": null,
   "metadata": {
    "collapsed": false,
    "nbpresent": {
     "id": "2ae3af0a-186c-4d12-b067-09f466ec53dd"
    }
   },
   "outputs": [],
   "source": [
    "sample_incomplete_rows.dropna(subset=[\"total_bedrooms\"])    # get rid of districts without \"total_bedrooms\" feature"
   ]
  },
  {
   "cell_type": "code",
   "execution_count": null,
   "metadata": {
    "collapsed": false,
    "nbpresent": {
     "id": "c08e69c2-db2c-4859-9989-e558d7eccd91"
    }
   },
   "outputs": [],
   "source": [
    "sample_incomplete_rows.drop(\"total_bedrooms\", axis=1)       # get rid of the whole feature"
   ]
  },
  {
   "cell_type": "code",
   "execution_count": null,
   "metadata": {
    "collapsed": false,
    "nbpresent": {
     "id": "685b42c3-e804-4e3f-b6e8-b542514a2e99"
    }
   },
   "outputs": [],
   "source": [
    "median = housing[\"total_bedrooms\"].median()\n",
    "sample_incomplete_rows[\"total_bedrooms\"].fillna(median, inplace=True) # impute missing vals with median\n",
    "sample_incomplete_rows"
   ]
  },
  {
   "cell_type": "code",
   "execution_count": null,
   "metadata": {
    "collapsed": true,
    "nbpresent": {
     "id": "ebb5f78f-45f7-4111-9b40-bfecf87ad5a6"
    }
   },
   "outputs": [],
   "source": [
    "from sklearn.preprocessing import Imputer\n",
    "\n",
    "imputer = Imputer(strategy=\"median\")"
   ]
  },
  {
   "cell_type": "markdown",
   "metadata": {
    "nbpresent": {
     "id": "3f55657e-e750-4ff9-a1e6-90e135fe5052"
    }
   },
   "source": [
    "Remove the text attribute because median can only be calculated on numerical attributes:"
   ]
  },
  {
   "cell_type": "code",
   "execution_count": null,
   "metadata": {
    "collapsed": true,
    "nbpresent": {
     "id": "e09782c5-a372-487f-9380-c78958594799"
    }
   },
   "outputs": [],
   "source": [
    "housing_num = housing.drop('ocean_proximity', axis=1)\n",
    "# alternatively: housing_num = housing.select_dtypes(include=[np.number])"
   ]
  },
  {
   "cell_type": "code",
   "execution_count": null,
   "metadata": {
    "collapsed": false,
    "nbpresent": {
     "id": "06d877d7-9bae-4b2a-aa8a-fbe6d0df4de8"
    }
   },
   "outputs": [],
   "source": [
    "imputer.fit(housing_num)"
   ]
  },
  {
   "cell_type": "code",
   "execution_count": null,
   "metadata": {
    "collapsed": false,
    "nbpresent": {
     "id": "c78060e8-d2b6-4adb-a0c9-cb002c890ecc"
    }
   },
   "outputs": [],
   "source": [
    "imputer.statistics_"
   ]
  },
  {
   "cell_type": "markdown",
   "metadata": {
    "nbpresent": {
     "id": "6eeb8d08-e66a-4a90-9abe-393d5efbd643"
    }
   },
   "source": [
    "Check that this is the same as manually computing the median of each attribute:"
   ]
  },
  {
   "cell_type": "code",
   "execution_count": null,
   "metadata": {
    "collapsed": false,
    "nbpresent": {
     "id": "a28d0e4d-f7cc-414d-9883-bbc8961195ab"
    }
   },
   "outputs": [],
   "source": [
    "housing_num.median().values"
   ]
  },
  {
   "cell_type": "markdown",
   "metadata": {
    "nbpresent": {
     "id": "679ca1ad-bc20-4a1f-8561-decff80652b6"
    }
   },
   "source": [
    "Transform the training set:"
   ]
  },
  {
   "cell_type": "code",
   "execution_count": null,
   "metadata": {
    "collapsed": true,
    "nbpresent": {
     "id": "1f5fef08-2e6b-4e19-9c8c-d722ab5a0b4a"
    }
   },
   "outputs": [],
   "source": [
    "X = imputer.transform(housing_num)"
   ]
  },
  {
   "cell_type": "code",
   "execution_count": null,
   "metadata": {
    "collapsed": true,
    "nbpresent": {
     "id": "4a23de11-2ef1-48f4-b9e4-d46dececc7b7"
    }
   },
   "outputs": [],
   "source": [
    "housing_tr = pd.DataFrame(X, columns=housing_num.columns,\n",
    "                          index = list(housing.index.values))"
   ]
  },
  {
   "cell_type": "code",
   "execution_count": null,
   "metadata": {
    "collapsed": false,
    "nbpresent": {
     "id": "3c0d0d94-b481-42a3-9864-816f576a027d"
    }
   },
   "outputs": [],
   "source": [
    "housing_tr.loc[sample_incomplete_rows.index.values]"
   ]
  },
  {
   "cell_type": "code",
   "execution_count": null,
   "metadata": {
    "collapsed": false,
    "nbpresent": {
     "id": "fc5be6bd-39e6-4980-a872-c59a276323f1"
    }
   },
   "outputs": [],
   "source": [
    "imputer.strategy"
   ]
  },
  {
   "cell_type": "code",
   "execution_count": null,
   "metadata": {
    "collapsed": false,
    "nbpresent": {
     "id": "b5cef738-5f45-4472-b384-66e6458e1d03"
    }
   },
   "outputs": [],
   "source": [
    "housing_tr = pd.DataFrame(X, columns=housing_num.columns)\n",
    "housing_tr.head()"
   ]
  },
  {
   "cell_type": "markdown",
   "metadata": {
    "nbpresent": {
     "id": "65c17522-129a-46a0-91df-f1994e51dabb"
    }
   },
   "source": [
    "Now let's preprocess the categorical input feature, `ocean_proximity`:"
   ]
  },
  {
   "cell_type": "code",
   "execution_count": null,
   "metadata": {
    "collapsed": false,
    "nbpresent": {
     "id": "8bb3ba89-5f59-444f-8c6f-95a29e5a35de"
    }
   },
   "outputs": [],
   "source": [
    "housing_cat = housing[['ocean_proximity']]\n",
    "housing_cat.head(10)"
   ]
  },
  {
   "cell_type": "markdown",
   "metadata": {
    "nbpresent": {
     "id": "3c3a08a3-30ee-4e9c-b836-31daaca4d813"
    }
   },
   "source": [
    "**Warning**: earlier versions of the book used the `LabelEncoder` class or Pandas' `Series.factorize()` method to encode string categorical attributes as integers. However, the `OrdinalEncoder` class that is planned to be introduced in Scikit-Learn 0.20 (see [PR #10521](https://github.com/scikit-learn/scikit-learn/issues/10521)) is preferable since it is designed for input features (`X` instead of labels `y`) and it plays well with pipelines (introduced later in this notebook). For now, we will import it from `future_encoders.py`, but once it is available you can import it directly from `sklearn.preprocessing`."
   ]
  },
  {
   "cell_type": "code",
   "execution_count": null,
   "metadata": {
    "collapsed": true,
    "nbpresent": {
     "id": "24847a3d-703b-4567-8b5e-d0a2562a9ebe"
    }
   },
   "outputs": [],
   "source": [
    "from future_encoders import OrdinalEncoder"
   ]
  },
  {
   "cell_type": "code",
   "execution_count": null,
   "metadata": {
    "collapsed": false,
    "nbpresent": {
     "id": "1ff1f7e0-9ada-4d71-a441-883348328c31"
    }
   },
   "outputs": [],
   "source": [
    "ordinal_encoder = OrdinalEncoder()\n",
    "housing_cat_encoded = ordinal_encoder.fit_transform(housing_cat)\n",
    "housing_cat_encoded[:10]"
   ]
  },
  {
   "cell_type": "code",
   "execution_count": null,
   "metadata": {
    "collapsed": false,
    "nbpresent": {
     "id": "0df81b06-e998-41c4-ba56-2c380422d9e7"
    }
   },
   "outputs": [],
   "source": [
    "ordinal_encoder.categories_"
   ]
  },
  {
   "cell_type": "markdown",
   "metadata": {
    "nbpresent": {
     "id": "429554d7-e19e-4f67-b9f9-ed1d30bfe95e"
    }
   },
   "source": [
    "**Warning**: earlier versions of the book used the `LabelBinarizer` or `CategoricalEncoder` classes to convert each categorical value to a one-hot vector. It is now preferable to use the `OneHotEncoder` class. Right now it can only handle integer categorical inputs, but in Scikit-Learn 0.20 it will also handle string categorical inputs (see [PR #10521](https://github.com/scikit-learn/scikit-learn/issues/10521)). So for now we import it from `future_encoders.py`, but when Scikit-Learn 0.20 is released, you can import it from `sklearn.preprocessing` instead:"
   ]
  },
  {
   "cell_type": "code",
   "execution_count": null,
   "metadata": {
    "collapsed": false,
    "nbpresent": {
     "id": "c0aee486-02db-4655-b25e-ad783d9cef42"
    }
   },
   "outputs": [],
   "source": [
    "from future_encoders import OneHotEncoder\n",
    "\n",
    "cat_encoder = OneHotEncoder()\n",
    "housing_cat_1hot = cat_encoder.fit_transform(housing_cat)\n",
    "housing_cat_1hot"
   ]
  },
  {
   "cell_type": "markdown",
   "metadata": {
    "nbpresent": {
     "id": "c83e1e59-0681-4919-8e49-75fefe58f3fa"
    }
   },
   "source": [
    "By default, the `OneHotEncoder` class returns a sparse array, but we can convert it to a dense array if needed by calling the `toarray()` method:"
   ]
  },
  {
   "cell_type": "code",
   "execution_count": null,
   "metadata": {
    "collapsed": false,
    "nbpresent": {
     "id": "439d18a0-f69f-4602-9445-0d8d2db411be"
    }
   },
   "outputs": [],
   "source": [
    "housing_cat_1hot.toarray()"
   ]
  },
  {
   "cell_type": "markdown",
   "metadata": {
    "nbpresent": {
     "id": "9d58515c-68b4-4c58-a179-eed5332cdb35"
    }
   },
   "source": [
    "Alternatively, you can set `sparse=False` when creating the `OneHotEncoder`:"
   ]
  },
  {
   "cell_type": "code",
   "execution_count": null,
   "metadata": {
    "collapsed": false,
    "nbpresent": {
     "id": "713c83e0-d600-49b4-98ac-ede232183536"
    }
   },
   "outputs": [],
   "source": [
    "cat_encoder = OneHotEncoder(sparse=False)\n",
    "housing_cat_1hot = cat_encoder.fit_transform(housing_cat)\n",
    "housing_cat_1hot"
   ]
  },
  {
   "cell_type": "code",
   "execution_count": null,
   "metadata": {
    "collapsed": false,
    "nbpresent": {
     "id": "b10ef181-2ac6-471b-b930-78bc81543e65"
    }
   },
   "outputs": [],
   "source": [
    "cat_encoder.categories_"
   ]
  },
  {
   "cell_type": "markdown",
   "metadata": {
    "nbpresent": {
     "id": "6aa53af4-3df2-4b0b-9d91-5d8ee9ba519d"
    }
   },
   "source": [
    "Let's create a custom transformer to add extra attributes:"
   ]
  },
  {
   "cell_type": "code",
   "execution_count": null,
   "metadata": {
    "collapsed": true,
    "nbpresent": {
     "id": "a791f431-7ba8-4514-8bf1-02f874b3bcef"
    }
   },
   "outputs": [],
   "source": [
    "from sklearn.base import BaseEstimator, TransformerMixin\n",
    "\n",
    "# column index\n",
    "rooms_ix, bedrooms_ix, population_ix, household_ix = 3, 4, 5, 6\n",
    "\n",
    "class CombinedAttributesAdder(BaseEstimator, TransformerMixin):\n",
    "    def __init__(self, add_bedrooms_per_room = True): # no *args or **kargs\n",
    "        self.add_bedrooms_per_room = add_bedrooms_per_room\n",
    "    def fit(self, X, y=None):\n",
    "        return self  # nothing else to do\n",
    "    def transform(self, X, y=None):\n",
    "        rooms_per_household = X[:, rooms_ix] / X[:, household_ix]\n",
    "        population_per_household = X[:, population_ix] / X[:, household_ix]\n",
    "        if self.add_bedrooms_per_room:\n",
    "            bedrooms_per_room = X[:, bedrooms_ix] / X[:, rooms_ix]\n",
    "            return np.c_[X, rooms_per_household, population_per_household,\n",
    "                         bedrooms_per_room]\n",
    "        else:\n",
    "            return np.c_[X, rooms_per_household, population_per_household]\n",
    "\n",
    "attr_adder = CombinedAttributesAdder(add_bedrooms_per_room=False)\n",
    "housing_extra_attribs = attr_adder.transform(housing.values)"
   ]
  },
  {
   "cell_type": "code",
   "execution_count": null,
   "metadata": {
    "collapsed": false,
    "nbpresent": {
     "id": "44b6d8cb-5159-4f8f-92c7-21c9e785e665"
    }
   },
   "outputs": [],
   "source": [
    "housing_extra_attribs = pd.DataFrame(\n",
    "    housing_extra_attribs,\n",
    "    columns=list(housing.columns)+[\"rooms_per_household\", \"population_per_household\"])\n",
    "housing_extra_attribs.head()"
   ]
  },
  {
   "cell_type": "markdown",
   "metadata": {
    "nbpresent": {
     "id": "eb76463a-549c-467b-b0d5-1d23efa9462e"
    }
   },
   "source": [
    "Now let's build a pipeline for preprocessing the numerical attributes:"
   ]
  },
  {
   "cell_type": "code",
   "execution_count": null,
   "metadata": {
    "collapsed": true,
    "nbpresent": {
     "id": "dd61679d-a792-4121-838d-d520779ccfc3"
    }
   },
   "outputs": [],
   "source": [
    "from sklearn.pipeline import Pipeline\n",
    "from sklearn.preprocessing import StandardScaler\n",
    "\n",
    "num_pipeline = Pipeline([\n",
    "        ('imputer', Imputer(strategy=\"median\")),\n",
    "        ('attribs_adder', CombinedAttributesAdder()),\n",
    "        ('std_scaler', StandardScaler()),\n",
    "    ])\n",
    "\n",
    "housing_num_tr = num_pipeline.fit_transform(housing_num)"
   ]
  },
  {
   "cell_type": "code",
   "execution_count": null,
   "metadata": {
    "collapsed": false,
    "nbpresent": {
     "id": "de702d43-214e-4e72-8713-bc24193b25ae"
    }
   },
   "outputs": [],
   "source": [
    "housing_num_tr"
   ]
  },
  {
   "cell_type": "markdown",
   "metadata": {
    "nbpresent": {
     "id": "3cde6c35-6ac4-424f-ba3f-4483a21016c7"
    }
   },
   "source": [
    "And a transformer to just select a subset of the Pandas DataFrame columns:"
   ]
  },
  {
   "cell_type": "code",
   "execution_count": null,
   "metadata": {
    "collapsed": true,
    "nbpresent": {
     "id": "0545c4f5-bb87-4d32-b3d8-e2b4f970b7ce"
    }
   },
   "outputs": [],
   "source": [
    "from sklearn.base import BaseEstimator, TransformerMixin\n",
    "\n",
    "# Create a class to select numerical or categorical columns \n",
    "# since Scikit-Learn doesn't handle DataFrames yet\n",
    "class DataFrameSelector(BaseEstimator, TransformerMixin):\n",
    "    def __init__(self, attribute_names):\n",
    "        self.attribute_names = attribute_names\n",
    "    def fit(self, X, y=None):\n",
    "        return self\n",
    "    def transform(self, X):\n",
    "        return X[self.attribute_names].values"
   ]
  },
  {
   "cell_type": "markdown",
   "metadata": {
    "nbpresent": {
     "id": "8fd25980-babd-420f-9050-203f28a6deb0"
    }
   },
   "source": [
    "Now let's join all these components into a big pipeline that will preprocess both the numerical and the categorical features:"
   ]
  },
  {
   "cell_type": "code",
   "execution_count": null,
   "metadata": {
    "collapsed": true,
    "nbpresent": {
     "id": "c7b4c9b1-c029-450c-9a13-3e85250d1707"
    }
   },
   "outputs": [],
   "source": [
    "num_attribs = list(housing_num)\n",
    "cat_attribs = [\"ocean_proximity\"]\n",
    "\n",
    "num_pipeline = Pipeline([\n",
    "        ('selector', DataFrameSelector(num_attribs)),\n",
    "        ('imputer', Imputer(strategy=\"median\")),\n",
    "        ('attribs_adder', CombinedAttributesAdder()),\n",
    "        ('std_scaler', StandardScaler()),\n",
    "    ])\n",
    "\n",
    "cat_pipeline = Pipeline([\n",
    "        ('selector', DataFrameSelector(cat_attribs)),\n",
    "        ('cat_encoder', OneHotEncoder(sparse=False)),\n",
    "    ])"
   ]
  },
  {
   "cell_type": "code",
   "execution_count": null,
   "metadata": {
    "collapsed": true,
    "nbpresent": {
     "id": "9e5db606-f8e6-48af-a379-17c7e07647f4"
    }
   },
   "outputs": [],
   "source": [
    "from sklearn.pipeline import FeatureUnion\n",
    "\n",
    "full_pipeline = FeatureUnion(transformer_list=[\n",
    "        (\"num_pipeline\", num_pipeline),\n",
    "        (\"cat_pipeline\", cat_pipeline),\n",
    "    ])"
   ]
  },
  {
   "cell_type": "code",
   "execution_count": null,
   "metadata": {
    "collapsed": false,
    "nbpresent": {
     "id": "3d67c952-039b-4a83-bbd3-5de37b555b1e"
    }
   },
   "outputs": [],
   "source": [
    "housing_prepared = full_pipeline.fit_transform(housing)\n",
    "housing_prepared"
   ]
  },
  {
   "cell_type": "code",
   "execution_count": null,
   "metadata": {
    "collapsed": false,
    "nbpresent": {
     "id": "802f31ae-17f8-4bd7-a601-046eb77bc642"
    }
   },
   "outputs": [],
   "source": [
    "housing_prepared.shape"
   ]
  },
  {
   "cell_type": "markdown",
   "metadata": {
    "nbpresent": {
     "id": "a0674411-f589-4e89-bd58-453bcf73d41f"
    }
   },
   "source": [
    "# Select and train a model "
   ]
  },
  {
   "cell_type": "code",
   "execution_count": null,
   "metadata": {
    "collapsed": false,
    "nbpresent": {
     "id": "d5068ecd-151b-4b9a-bca9-67229ac2a3b4"
    }
   },
   "outputs": [],
   "source": [
    "from sklearn.linear_model import LinearRegression\n",
    "\n",
    "lin_reg = LinearRegression()\n",
    "lin_reg.fit(housing_prepared, housing_labels)"
   ]
  },
  {
   "cell_type": "code",
   "execution_count": null,
   "metadata": {
    "collapsed": false,
    "nbpresent": {
     "id": "d8400ca4-52d0-43be-9bd4-6ee76a5e3f9c"
    }
   },
   "outputs": [],
   "source": [
    "# let's try the full pipeline on a few training instances\n",
    "some_data = housing.iloc[:5]\n",
    "some_labels = housing_labels.iloc[:5]\n",
    "some_data_prepared = full_pipeline.transform(some_data)\n",
    "\n",
    "print(\"Predictions:\", lin_reg.predict(some_data_prepared))"
   ]
  },
  {
   "cell_type": "code",
   "execution_count": null,
   "metadata": {
    "collapsed": true
   },
   "outputs": [],
   "source": [
    "from sklearn.model_selection import cross_val_score\n",
    "scores = cross_val_score(lin_reg, housing_prepared, housing_labels, scoring=\"neg_mean_squared_error\", cv=10)\n",
    "rmse_scores=np.sqrt(-scores)\n",
    "\n",
    "scores\n",
    "rmse_scores"
   ]
  },
  {
   "cell_type": "markdown",
   "metadata": {
    "nbpresent": {
     "id": "39e71eb2-0311-4b09-bfb3-2a814e8f2567"
    }
   },
   "source": [
    "Compare against the actual values:"
   ]
  },
  {
   "cell_type": "code",
   "execution_count": null,
   "metadata": {
    "collapsed": false,
    "nbpresent": {
     "id": "1903083c-beaf-41b6-8cf5-e3da244c6c71"
    }
   },
   "outputs": [],
   "source": [
    "print(\"Labels:\", list(some_labels))"
   ]
  },
  {
   "cell_type": "code",
   "execution_count": null,
   "metadata": {
    "collapsed": false,
    "nbpresent": {
     "id": "fe3dcb00-efe0-4a30-8ef9-cba9d2eb9af3"
    }
   },
   "outputs": [],
   "source": [
    "some_data_prepared"
   ]
  },
  {
   "cell_type": "code",
   "execution_count": null,
   "metadata": {
    "collapsed": false,
    "nbpresent": {
     "id": "99b843df-57e3-4023-a1e4-ab6ec8ea03fa"
    }
   },
   "outputs": [],
   "source": [
    "from sklearn.metrics import mean_squared_error\n",
    "\n",
    "housing_predictions = lin_reg.predict(housing_prepared)\n",
    "lin_mse = mean_squared_error(housing_labels, housing_predictions)\n",
    "lin_rmse = np.sqrt(lin_mse)\n",
    "lin_rmse"
   ]
  },
  {
   "cell_type": "code",
   "execution_count": null,
   "metadata": {
    "collapsed": false,
    "nbpresent": {
     "id": "6f69a286-e3b4-486c-b0e2-eb4681e99694"
    }
   },
   "outputs": [],
   "source": [
    "from sklearn.metrics import mean_absolute_error\n",
    "\n",
    "lin_mae = mean_absolute_error(housing_labels, housing_predictions)\n",
    "lin_mae"
   ]
  },
  {
   "cell_type": "markdown",
   "metadata": {
    "nbpresent": {
     "id": "361d6d9a-a91b-41df-a4a2-05fd7f8a9644"
    }
   },
   "source": [
    "Congratulations! You already know quite a lot about Machine Learning. :)"
   ]
  }
 ],
 "metadata": {
  "anaconda-cloud": {},
  "kernelspec": {
   "display_name": "Python [py36]",
   "language": "python",
   "name": "Python [py36]"
  },
  "language_info": {
   "codemirror_mode": {
    "name": "ipython",
    "version": 3
   },
   "file_extension": ".py",
   "mimetype": "text/x-python",
   "name": "python",
   "nbconvert_exporter": "python",
   "pygments_lexer": "ipython3",
   "version": "3.6.1"
  },
  "nav_menu": {
   "height": "279px",
   "width": "309px"
  },
  "nbpresent": {
   "slides": {
    "008ac1bc-7bc2-4a07-a412-9ff9fbbca194": {
     "id": "008ac1bc-7bc2-4a07-a412-9ff9fbbca194",
     "prev": "14862a9f-4729-4024-9f65-d9a769dd00dc",
     "regions": {
      "31d384dd-610e-4087-b396-148092698e85": {
       "attrs": {
        "height": 0.8,
        "width": 0.8,
        "x": 0.1,
        "y": 0.1
       },
       "content": {
        "cell": "db0ecdb9-cea7-466e-889d-04fd1ec453cd",
        "part": "whole"
       },
       "id": "31d384dd-610e-4087-b396-148092698e85"
      }
     }
    },
    "00e37b5b-a1e7-4bee-be07-434f36bd9da0": {
     "id": "00e37b5b-a1e7-4bee-be07-434f36bd9da0",
     "prev": "8efc0e8d-93ec-42e0-b889-ec3cf83f9fd4",
     "regions": {
      "1362e653-78c1-4ae8-b84e-d113a78361b0": {
       "attrs": {
        "height": 0.8,
        "width": 0.8,
        "x": 0.1,
        "y": 0.1
       },
       "content": {
        "cell": "a0674411-f589-4e89-bd58-453bcf73d41f",
        "part": "whole"
       },
       "id": "1362e653-78c1-4ae8-b84e-d113a78361b0"
      }
     }
    },
    "0108f599-d6b8-456c-8130-7fa2828b9616": {
     "id": "0108f599-d6b8-456c-8130-7fa2828b9616",
     "prev": "c1372adb-9a5f-4de6-bea1-4c2e6d3f1cbd",
     "regions": {
      "38e24b8f-ca3d-4f97-be0c-fbdaf85dfb3e": {
       "attrs": {
        "height": 0.8,
        "width": 0.8,
        "x": 0.1,
        "y": 0.1
       },
       "content": {
        "cell": "fb05b0d3-2656-481e-9cac-e58d4aa56870",
        "part": "whole"
       },
       "id": "38e24b8f-ca3d-4f97-be0c-fbdaf85dfb3e"
      }
     }
    },
    "01abf230-c4d3-4610-bf49-dd69633fc66a": {
     "id": "01abf230-c4d3-4610-bf49-dd69633fc66a",
     "prev": "6b21523f-37fc-472e-843f-b6381c425c1c",
     "regions": {
      "93e168f0-495a-43a7-867d-8e8a3849a4ef": {
       "attrs": {
        "height": 0.8,
        "width": 0.8,
        "x": 0.1,
        "y": 0.1
       },
       "content": {
        "cell": "b5cef738-5f45-4472-b384-66e6458e1d03",
        "part": "whole"
       },
       "id": "93e168f0-495a-43a7-867d-8e8a3849a4ef"
      }
     }
    },
    "01d9c408-af6e-43d4-a60e-ae2c9e4f8b92": {
     "id": "01d9c408-af6e-43d4-a60e-ae2c9e4f8b92",
     "prev": "01abf230-c4d3-4610-bf49-dd69633fc66a",
     "regions": {
      "a743e50a-7ace-4717-a0a2-c9e5d1d477b7": {
       "attrs": {
        "height": 0.8,
        "width": 0.8,
        "x": 0.1,
        "y": 0.1
       },
       "content": {
        "cell": "65c17522-129a-46a0-91df-f1994e51dabb",
        "part": "whole"
       },
       "id": "a743e50a-7ace-4717-a0a2-c9e5d1d477b7"
      }
     }
    },
    "02de9759-2bd7-4a25-b5ce-d72e3746bdcb": {
     "id": "02de9759-2bd7-4a25-b5ce-d72e3746bdcb",
     "prev": "8f04d608-3062-4ec9-acc8-e4936b90f71a",
     "regions": {
      "64b4723b-7960-4e2c-a877-45a17461c69a": {
       "attrs": {
        "height": 0.8,
        "width": 0.8,
        "x": 0.1,
        "y": 0.1
       },
       "content": {
        "cell": "45b1acea-2e61-4722-830f-0e59847eb246",
        "part": "whole"
       },
       "id": "64b4723b-7960-4e2c-a877-45a17461c69a"
      }
     }
    },
    "03ad5a3b-4f53-4102-8491-db2c591807d6": {
     "id": "03ad5a3b-4f53-4102-8491-db2c591807d6",
     "prev": "ad9ecb00-7232-46f6-b8b1-4bdcd2ebbc20",
     "regions": {
      "29c246dc-8a75-4de3-9961-d487e8f95aeb": {
       "attrs": {
        "height": 0.8,
        "width": 0.8,
        "x": 0.1,
        "y": 0.1
       },
       "content": {
        "cell": "dd61679d-a792-4121-838d-d520779ccfc3",
        "part": "whole"
       },
       "id": "29c246dc-8a75-4de3-9961-d487e8f95aeb"
      }
     }
    },
    "04bd5af7-c21c-4bb9-9cb6-3b48ff27dc50": {
     "id": "04bd5af7-c21c-4bb9-9cb6-3b48ff27dc50",
     "prev": "7630b499-ae37-44f1-9d1e-b595e08cd6a1",
     "regions": {
      "2078e975-9224-4625-a806-7dbc0d1658de": {
       "attrs": {
        "height": 0.8,
        "width": 0.8,
        "x": 0.1,
        "y": 0.1
       },
       "content": {
        "cell": "6ad6d5d6-9179-411e-b046-745ac354e67f",
        "part": "whole"
       },
       "id": "2078e975-9224-4625-a806-7dbc0d1658de"
      }
     }
    },
    "04fe36e0-b261-4816-b94e-ca4883bc240d": {
     "id": "04fe36e0-b261-4816-b94e-ca4883bc240d",
     "prev": "f463d37e-cfb2-43b6-9be7-f36fee1ece6c",
     "regions": {
      "487b2380-72ed-4765-b493-ba174d1fb777": {
       "attrs": {
        "height": 0.8,
        "width": 0.8,
        "x": 0.1,
        "y": 0.1
       },
       "content": {
        "cell": "ee6832ec-f6ca-42f1-965a-86d3bd078aae",
        "part": "whole"
       },
       "id": "487b2380-72ed-4765-b493-ba174d1fb777"
      }
     }
    },
    "06150178-10ee-40cc-9c9f-82bf2e20fda7": {
     "id": "06150178-10ee-40cc-9c9f-82bf2e20fda7",
     "prev": "504d692b-c662-43d6-af5a-383d9841d678",
     "regions": {
      "1fe03984-1447-42aa-9476-8cf8c6fc4f8b": {
       "attrs": {
        "height": 0.8,
        "width": 0.8,
        "x": 0.1,
        "y": 0.1
       },
       "content": {
        "cell": "bfcfb4f6-0376-476b-b800-ea6e84ae37f8",
        "part": "whole"
       },
       "id": "1fe03984-1447-42aa-9476-8cf8c6fc4f8b"
      }
     }
    },
    "0734765e-ae75-4db8-b044-e94644662656": {
     "id": "0734765e-ae75-4db8-b044-e94644662656",
     "prev": "f079b8bd-d746-4538-826a-358f4ef9cc59",
     "regions": {
      "853cf9bb-217c-4ded-a150-bee29c6f34fa": {
       "attrs": {
        "height": 0.8,
        "width": 0.8,
        "x": 0.1,
        "y": 0.1
       },
       "content": {
        "cell": "3d65fb16-aacc-47a5-a2b3-f835a2dfe4c5",
        "part": "whole"
       },
       "id": "853cf9bb-217c-4ded-a150-bee29c6f34fa"
      }
     }
    },
    "0ac3c69c-d2d7-4e86-bcae-18f9c91a23b7": {
     "id": "0ac3c69c-d2d7-4e86-bcae-18f9c91a23b7",
     "prev": "0108f599-d6b8-456c-8130-7fa2828b9616",
     "regions": {
      "119461d9-1151-4ca6-8275-0dc447cc2dba": {
       "attrs": {
        "height": 0.8,
        "width": 0.8,
        "x": 0.1,
        "y": 0.1
       },
       "content": {
        "cell": "d4840351-2fbb-401d-9b33-a7928208aa62",
        "part": "whole"
       },
       "id": "119461d9-1151-4ca6-8275-0dc447cc2dba"
      }
     }
    },
    "0c0e1388-db40-4244-9c66-a2bad08b8ab2": {
     "id": "0c0e1388-db40-4244-9c66-a2bad08b8ab2",
     "prev": "bba8ff09-cbbb-4e8a-a3ae-6cdc33e6af82",
     "regions": {
      "cc64d01a-400f-4185-87ad-b574db9ce892": {
       "attrs": {
        "height": 0.8,
        "width": 0.8,
        "x": 0.1,
        "y": 0.1
       },
       "content": {
        "cell": "aa8967e9-a819-477b-82e4-4c26d15c85e9",
        "part": "whole"
       },
       "id": "cc64d01a-400f-4185-87ad-b574db9ce892"
      }
     }
    },
    "0d4819fd-3e85-4455-81b4-06cac059a2ef": {
     "id": "0d4819fd-3e85-4455-81b4-06cac059a2ef",
     "prev": "f1337b9f-2fa7-4576-8b47-05635063e350",
     "regions": {
      "35f616f4-6a19-470d-aad5-fe27ff4f253f": {
       "attrs": {
        "height": 0.8,
        "width": 0.8,
        "x": 0.1,
        "y": 0.1
       },
       "content": {
        "cell": "6f69a286-e3b4-486c-b0e2-eb4681e99694",
        "part": "whole"
       },
       "id": "35f616f4-6a19-470d-aad5-fe27ff4f253f"
      }
     }
    },
    "0dc17e32-5bff-4168-952d-85b5312427c0": {
     "id": "0dc17e32-5bff-4168-952d-85b5312427c0",
     "prev": "34913f9c-ffff-4c43-8bc2-5152055ac32d",
     "regions": {
      "6a848c57-b1b3-4557-8572-29256d483ff7": {
       "attrs": {
        "height": 0.8,
        "width": 0.8,
        "x": 0.1,
        "y": 0.1
       },
       "content": {
        "cell": "679ca1ad-bc20-4a1f-8561-decff80652b6",
        "part": "whole"
       },
       "id": "6a848c57-b1b3-4557-8572-29256d483ff7"
      }
     }
    },
    "0defd361-0966-4ef8-b3ce-70699ed47164": {
     "id": "0defd361-0966-4ef8-b3ce-70699ed47164",
     "prev": "25042d88-cebf-4eab-b911-dd7ab57ed1d8",
     "regions": {
      "31a4ea6e-af7f-4ecd-a8dc-0b950a72e593": {
       "attrs": {
        "height": 0.8,
        "width": 0.8,
        "x": 0.1,
        "y": 0.1
       },
       "content": {
        "cell": "256e6f86-fa8b-418f-92d6-fb36cfb6ec4d",
        "part": "whole"
       },
       "id": "31a4ea6e-af7f-4ecd-a8dc-0b950a72e593"
      }
     }
    },
    "1325ce6d-7e0c-401e-8735-1c42b8bd453d": {
     "id": "1325ce6d-7e0c-401e-8735-1c42b8bd453d",
     "prev": "67b42322-4cf7-4f40-a074-bec7b90c60a0",
     "regions": {
      "c21816ff-03fb-4714-bd1d-050cfae0caee": {
       "attrs": {
        "height": 0.8,
        "width": 0.8,
        "x": 0.1,
        "y": 0.1
       },
       "content": {
        "cell": "3c0d0d94-b481-42a3-9864-816f576a027d",
        "part": "whole"
       },
       "id": "c21816ff-03fb-4714-bd1d-050cfae0caee"
      }
     }
    },
    "1411769a-33b2-4742-8590-2de307d3c74c": {
     "id": "1411769a-33b2-4742-8590-2de307d3c74c",
     "prev": "59858481-9567-4d63-9d16-d556123932b4",
     "regions": {
      "60244e82-576e-4159-a35e-ffecd52847d5": {
       "attrs": {
        "height": 0.8,
        "width": 0.8,
        "x": 0.1,
        "y": 0.1
       },
       "content": {
        "cell": "1e8793e7-44ee-4b2d-8995-a0b984b6dbf0",
        "part": "whole"
       },
       "id": "60244e82-576e-4159-a35e-ffecd52847d5"
      }
     }
    },
    "14862a9f-4729-4024-9f65-d9a769dd00dc": {
     "id": "14862a9f-4729-4024-9f65-d9a769dd00dc",
     "prev": "4581dc4e-693b-4417-a859-70b541ccd8b0",
     "regions": {
      "e38c6bc7-f05f-4d7b-8b5a-c6741c921a40": {
       "attrs": {
        "height": 0.8,
        "width": 0.8,
        "x": 0.1,
        "y": 0.1
       },
       "content": {
        "cell": "dce30a8d-acf4-463d-a310-6aab9e55def9",
        "part": "whole"
       },
       "id": "e38c6bc7-f05f-4d7b-8b5a-c6741c921a40"
      }
     }
    },
    "14eface4-ab73-474a-a2df-961d60af4fc3": {
     "id": "14eface4-ab73-474a-a2df-961d60af4fc3",
     "prev": "5e6b30e2-2ef9-441d-89d8-05cc77878db5",
     "regions": {
      "3af175ce-8ec7-4888-a75c-57efae80d0b0": {
       "attrs": {
        "height": 0.8,
        "width": 0.8,
        "x": 0.1,
        "y": 0.1
       },
       "content": {
        "cell": "9928bf41-9e60-4384-a497-20108ada868a",
        "part": "whole"
       },
       "id": "3af175ce-8ec7-4888-a75c-57efae80d0b0"
      }
     }
    },
    "15d9783d-6178-4346-9b88-9c3478de1aaa": {
     "id": "15d9783d-6178-4346-9b88-9c3478de1aaa",
     "prev": "f8738e69-13a6-4016-b439-0e45754177aa",
     "regions": {
      "2b2eab9b-65de-42a8-b09f-c2cb33f17cc8": {
       "attrs": {
        "height": 0.8,
        "width": 0.8,
        "x": 0.1,
        "y": 0.1
       },
       "content": {
        "cell": "ccf773db-80b7-4b7c-8537-a156a3ebb33f",
        "part": "whole"
       },
       "id": "2b2eab9b-65de-42a8-b09f-c2cb33f17cc8"
      }
     }
    },
    "16d47b41-1b94-42b5-99d7-b94f94af00da": {
     "id": "16d47b41-1b94-42b5-99d7-b94f94af00da",
     "prev": "dab629b8-1757-4824-8076-8434a25138a2",
     "regions": {
      "425ca38d-6a2b-4f99-940d-5ca387126c1c": {
       "attrs": {
        "height": 0.8,
        "width": 0.8,
        "x": 0.1,
        "y": 0.1
       },
       "content": {
        "cell": "f9067562-c627-41ca-8787-f5c4235dfe0d",
        "part": "whole"
       },
       "id": "425ca38d-6a2b-4f99-940d-5ca387126c1c"
      }
     }
    },
    "174124bd-1105-4a3c-8ad1-b4e4571bf73c": {
     "id": "174124bd-1105-4a3c-8ad1-b4e4571bf73c",
     "prev": "e02d2a79-5464-4c00-9edf-84516e5068f2",
     "regions": {
      "5f7deaad-2083-483f-a0b6-a4a191efc01e": {
       "attrs": {
        "height": 0.8,
        "width": 0.8,
        "x": 0.1,
        "y": 0.1
       },
       "content": {
        "cell": "e5622b75-2ce3-4b18-bb92-1f724985cc5e",
        "part": "whole"
       },
       "id": "5f7deaad-2083-483f-a0b6-a4a191efc01e"
      }
     }
    },
    "186bd1ba-4dba-4562-9bda-b988e9fd5763": {
     "id": "186bd1ba-4dba-4562-9bda-b988e9fd5763",
     "prev": "14eface4-ab73-474a-a2df-961d60af4fc3",
     "regions": {
      "377ce79e-1a03-4765-a147-fba7281828ea": {
       "attrs": {
        "height": 0.8,
        "width": 0.8,
        "x": 0.1,
        "y": 0.1
       },
       "content": {
        "cell": "218483c4-932e-4501-9400-7be45df2f52f",
        "part": "whole"
       },
       "id": "377ce79e-1a03-4765-a147-fba7281828ea"
      }
     }
    },
    "19bb3dd8-3607-4499-9de1-df2ea2af4d16": {
     "id": "19bb3dd8-3607-4499-9de1-df2ea2af4d16",
     "prev": "3dc99f97-8ad7-4c07-9458-2328377e7009",
     "regions": {
      "5cafe3a0-e626-4172-99c5-b76331dbfe63": {
       "attrs": {
        "height": 0.8,
        "width": 0.8,
        "x": 0.1,
        "y": 0.1
       },
       "content": {
        "cell": "ba2d47b5-25bf-4cad-aa06-ee374e1eea27",
        "part": "whole"
       },
       "id": "5cafe3a0-e626-4172-99c5-b76331dbfe63"
      }
     }
    },
    "1a87d817-0539-4bd9-a318-b563a1e2b0a1": {
     "id": "1a87d817-0539-4bd9-a318-b563a1e2b0a1",
     "prev": "0c0e1388-db40-4244-9c66-a2bad08b8ab2",
     "regions": {
      "582be094-89cb-4845-9388-163be7bf1d80": {
       "attrs": {
        "height": 0.8,
        "width": 0.8,
        "x": 0.1,
        "y": 0.1
       },
       "content": {
        "cell": "f5f313ab-58b0-4777-b52a-bee7bb2d42d1",
        "part": "whole"
       },
       "id": "582be094-89cb-4845-9388-163be7bf1d80"
      }
     }
    },
    "1b9e05b6-86d8-4aff-8856-abb7e13cf6b2": {
     "id": "1b9e05b6-86d8-4aff-8856-abb7e13cf6b2",
     "prev": "864cb657-ef88-46d4-8f8f-39feeeff6fd7",
     "regions": {
      "b5b6d5fa-20f3-46df-8a69-89680a9afb84": {
       "attrs": {
        "height": 0.8,
        "width": 0.8,
        "x": 0.1,
        "y": 0.1
       },
       "content": {
        "cell": "9d31bf73-375c-4c5b-b033-5506772676ce",
        "part": "whole"
       },
       "id": "b5b6d5fa-20f3-46df-8a69-89680a9afb84"
      }
     }
    },
    "1be0dc15-7ae3-4351-b7b4-6d7770d879b2": {
     "id": "1be0dc15-7ae3-4351-b7b4-6d7770d879b2",
     "prev": "8d325c4f-5284-41f2-999e-6892302c33c0",
     "regions": {
      "9e069c1d-9d61-49bc-9fd8-4c7060d3a760": {
       "attrs": {
        "height": 0.8,
        "width": 0.8,
        "x": 0.1,
        "y": 0.1
       },
       "content": {
        "cell": "a0f743d1-0334-49b3-9df2-22fddf24c63a",
        "part": "whole"
       },
       "id": "9e069c1d-9d61-49bc-9fd8-4c7060d3a760"
      }
     }
    },
    "1cbd7060-d623-413f-89d6-eec723700b1c": {
     "id": "1cbd7060-d623-413f-89d6-eec723700b1c",
     "prev": "0d4819fd-3e85-4455-81b4-06cac059a2ef",
     "regions": {
      "35723fc3-f7ca-4032-9b22-57cf7d9944de": {
       "attrs": {
        "height": 0.8,
        "width": 0.8,
        "x": 0.1,
        "y": 0.1
       },
       "content": {
        "cell": "b7155e97-4222-4496-a778-5d36b4bada9d",
        "part": "whole"
       },
       "id": "35723fc3-f7ca-4032-9b22-57cf7d9944de"
      }
     }
    },
    "1ce5df29-b5d8-47aa-87ec-385ce63b9774": {
     "id": "1ce5df29-b5d8-47aa-87ec-385ce63b9774",
     "prev": "f3547e5a-e69a-4c49-b278-708697801f6d",
     "regions": {
      "109cf650-3f5a-4715-803a-a045338e4a55": {
       "attrs": {
        "height": 0.8,
        "width": 0.8,
        "x": 0.1,
        "y": 0.1
       },
       "content": {
        "cell": "37c39246-5eb5-4006-a9d3-6afe039bfd92",
        "part": "whole"
       },
       "id": "109cf650-3f5a-4715-803a-a045338e4a55"
      }
     }
    },
    "1d705b1a-f12a-4f3a-9b7f-6d4eaf7a77cf": {
     "id": "1d705b1a-f12a-4f3a-9b7f-6d4eaf7a77cf",
     "prev": "243ef62f-7b85-4297-9faa-b1a6429c2fbb",
     "regions": {
      "694bd708-4c14-44cd-afe7-bd4bc1a3a563": {
       "attrs": {
        "height": 0.8,
        "width": 0.8,
        "x": 0.1,
        "y": 0.1
       },
       "content": {
        "cell": "2e47c879-295e-43d5-9111-42689a564c85",
        "part": "whole"
       },
       "id": "694bd708-4c14-44cd-afe7-bd4bc1a3a563"
      }
     }
    },
    "1e8fb0f8-4082-4720-86da-b19d1fad0dcc": {
     "id": "1e8fb0f8-4082-4720-86da-b19d1fad0dcc",
     "prev": "dcf58f86-18ef-4c3b-a668-d941fe2d163f",
     "regions": {
      "a67bb0da-57a4-45c5-9b04-d3f77dcc1df1": {
       "attrs": {
        "height": 0.8,
        "width": 0.8,
        "x": 0.1,
        "y": 0.1
       },
       "content": {
        "cell": "839bb914-4f6c-41fd-bc82-53a4a18b2669",
        "part": "whole"
       },
       "id": "a67bb0da-57a4-45c5-9b04-d3f77dcc1df1"
      }
     }
    },
    "1f922a07-1760-4679-a667-0caf3f9ba3a2": {
     "id": "1f922a07-1760-4679-a667-0caf3f9ba3a2",
     "prev": "5557d0c2-f63c-4e3f-884b-7294269c5b58",
     "regions": {
      "a2ddc0f0-a412-4c35-95f9-b535493b4525": {
       "attrs": {
        "height": 0.8,
        "width": 0.8,
        "x": 0.1,
        "y": 0.1
       },
       "content": {
        "cell": "05913461-1398-4e2e-b726-9467db27b298",
        "part": "whole"
       },
       "id": "a2ddc0f0-a412-4c35-95f9-b535493b4525"
      }
     }
    },
    "23637e9d-60cf-461a-8f18-7b649d5955e5": {
     "id": "23637e9d-60cf-461a-8f18-7b649d5955e5",
     "prev": "5ddcb96d-65ed-4833-9b2d-8323280b046c",
     "regions": {
      "145106d1-2f4f-41d2-83e1-3efc5ec4bed4": {
       "attrs": {
        "height": 0.8,
        "width": 0.8,
        "x": 0.1,
        "y": 0.1
       },
       "content": {
        "cell": "6c5e846f-4111-4f0e-9a99-d84a236d1f73",
        "part": "whole"
       },
       "id": "145106d1-2f4f-41d2-83e1-3efc5ec4bed4"
      }
     }
    },
    "238f64e2-f8e3-40b0-8ebf-cfc33817d145": {
     "id": "238f64e2-f8e3-40b0-8ebf-cfc33817d145",
     "prev": "16d47b41-1b94-42b5-99d7-b94f94af00da",
     "regions": {
      "e204b7ad-b52c-41bd-af1d-e8ceb993e3d6": {
       "attrs": {
        "height": 0.8,
        "width": 0.8,
        "x": 0.1,
        "y": 0.1
       },
       "content": {
        "cell": "14231eb8-c2d7-4b90-84d5-0aa6aca61df8",
        "part": "whole"
       },
       "id": "e204b7ad-b52c-41bd-af1d-e8ceb993e3d6"
      }
     }
    },
    "243ef62f-7b85-4297-9faa-b1a6429c2fbb": {
     "id": "243ef62f-7b85-4297-9faa-b1a6429c2fbb",
     "prev": "a9029878-7cc8-414c-b318-8012fc42fdc1",
     "regions": {
      "a907dc48-976d-468f-9249-9046c8b78cc2": {
       "attrs": {
        "height": 0.8,
        "width": 0.8,
        "x": 0.1,
        "y": 0.1
       },
       "content": {
        "cell": "799c2b6f-bf1a-4b4a-a504-a98a7b5cbe70",
        "part": "whole"
       },
       "id": "a907dc48-976d-468f-9249-9046c8b78cc2"
      }
     }
    },
    "24edd498-f7db-46df-956c-89d8fe16511e": {
     "id": "24edd498-f7db-46df-956c-89d8fe16511e",
     "prev": "531de43c-f849-4e5a-8eb4-4a1b6def0ec8",
     "regions": {
      "1d3f8ecb-068e-4c5c-99bb-710ac0261b96": {
       "attrs": {
        "height": 0.8,
        "width": 0.8,
        "x": 0.1,
        "y": 0.1
       },
       "content": {
        "cell": "44b6d8cb-5159-4f8f-92c7-21c9e785e665",
        "part": "whole"
       },
       "id": "1d3f8ecb-068e-4c5c-99bb-710ac0261b96"
      }
     }
    },
    "25042d88-cebf-4eab-b911-dd7ab57ed1d8": {
     "id": "25042d88-cebf-4eab-b911-dd7ab57ed1d8",
     "prev": "da5e412a-797b-476e-b1a1-24080b5936c4",
     "regions": {
      "c3224291-fb1b-4d5f-a9ef-0fa60a913c4e": {
       "attrs": {
        "height": 0.8,
        "width": 0.8,
        "x": 0.1,
        "y": 0.1
       },
       "content": {
        "cell": "f845d3f3-b783-484a-a710-37d02be16b8b",
        "part": "whole"
       },
       "id": "c3224291-fb1b-4d5f-a9ef-0fa60a913c4e"
      }
     }
    },
    "2a5a55bf-8b11-403a-a7f2-27671f4513d0": {
     "id": "2a5a55bf-8b11-403a-a7f2-27671f4513d0",
     "prev": "966dfd5d-de40-4f99-875c-6534c226e8a1",
     "regions": {
      "a1938575-9bf9-42d5-b8cf-9098d94e7287": {
       "attrs": {
        "height": 0.8,
        "width": 0.8,
        "x": 0.1,
        "y": 0.1
       },
       "content": {
        "cell": "e4b0564b-427b-4884-8027-7830ad2fc222",
        "part": "whole"
       },
       "id": "a1938575-9bf9-42d5-b8cf-9098d94e7287"
      }
     }
    },
    "2ae0c21c-ce3c-4b3d-9865-30c4ea36b951": {
     "id": "2ae0c21c-ce3c-4b3d-9865-30c4ea36b951",
     "prev": "7bafbeaa-a166-498f-bd75-583e3004dd0b",
     "regions": {
      "0540dcdb-25ac-497e-9d93-635174c519d7": {
       "attrs": {
        "height": 0.8,
        "width": 0.8,
        "x": 0.1,
        "y": 0.1
       },
       "content": {
        "cell": "08dff074-0661-4fe2-976e-beb4ce739cfd",
        "part": "whole"
       },
       "id": "0540dcdb-25ac-497e-9d93-635174c519d7"
      }
     }
    },
    "2be5fccc-864e-4ee6-a441-aa68f0306681": {
     "id": "2be5fccc-864e-4ee6-a441-aa68f0306681",
     "prev": "a366cdc4-9308-4337-8c84-34c24ff54f70",
     "regions": {
      "e38c54e3-16a1-4835-9648-abdbf5298ffc": {
       "attrs": {
        "height": 0.8,
        "width": 0.8,
        "x": 0.1,
        "y": 0.1
       },
       "content": {
        "cell": "2689cf1f-caa1-43f9-8c04-d1d20052c193",
        "part": "whole"
       },
       "id": "e38c54e3-16a1-4835-9648-abdbf5298ffc"
      }
     }
    },
    "2cc31ca9-4d0c-4cfd-83c6-3bb63d485ee0": {
     "id": "2cc31ca9-4d0c-4cfd-83c6-3bb63d485ee0",
     "prev": "0defd361-0966-4ef8-b3ce-70699ed47164",
     "regions": {
      "1596c27a-8cd8-4b36-9818-f9e5186085a5": {
       "attrs": {
        "height": 0.8,
        "width": 0.8,
        "x": 0.1,
        "y": 0.1
       },
       "content": {
        "cell": "2df6831c-3981-4656-b957-f8bdb8e62990",
        "part": "whole"
       },
       "id": "1596c27a-8cd8-4b36-9818-f9e5186085a5"
      }
     }
    },
    "2db67ef0-8eb4-42d6-857d-c4272ce86a1e": {
     "id": "2db67ef0-8eb4-42d6-857d-c4272ce86a1e",
     "prev": "36ce2545-b00b-4321-95be-4c60b4cf2c74",
     "regions": {
      "4a6b95ad-0511-49b7-a130-d944d6141795": {
       "attrs": {
        "height": 0.8,
        "width": 0.8,
        "x": 0.1,
        "y": 0.1
       },
       "content": {
        "cell": "2cbd6003-ad20-4a0e-851f-a5d5b8d6e5eb",
        "part": "whole"
       },
       "id": "4a6b95ad-0511-49b7-a130-d944d6141795"
      }
     }
    },
    "306387ea-8576-4d6a-b0b7-a70a2beb7583": {
     "id": "306387ea-8576-4d6a-b0b7-a70a2beb7583",
     "prev": "43e57f11-b6ca-4ba8-a793-4fe27cd4163c",
     "regions": {
      "96947508-dbcd-4d4b-b4cb-86a70c0d5f1d": {
       "attrs": {
        "height": 0.8,
        "width": 0.8,
        "x": 0.1,
        "y": 0.1
       },
       "content": {
        "cell": "3f55657e-e750-4ff9-a1e6-90e135fe5052",
        "part": "whole"
       },
       "id": "96947508-dbcd-4d4b-b4cb-86a70c0d5f1d"
      }
     }
    },
    "307f31d3-143e-499a-9c56-84026a89e824": {
     "id": "307f31d3-143e-499a-9c56-84026a89e824",
     "prev": "c4af918c-9840-4e29-885b-e4dbad6b2843",
     "regions": {
      "21ebe533-ddbe-4765-b45c-0c12f16efe8e": {
       "attrs": {
        "height": 0.8,
        "width": 0.8,
        "x": 0.1,
        "y": 0.1
       },
       "content": {
        "cell": "5ac21f27-cc99-49ed-8661-99fb84b58e33",
        "part": "whole"
       },
       "id": "21ebe533-ddbe-4765-b45c-0c12f16efe8e"
      }
     }
    },
    "31416dc8-9ee1-4c30-91bc-d43e7cf2aa9e": {
     "id": "31416dc8-9ee1-4c30-91bc-d43e7cf2aa9e",
     "prev": "c3a40fea-5833-46ff-b10e-c1861b7fb36a",
     "regions": {
      "0508376d-36f3-45d3-a671-ce1612481439": {
       "attrs": {
        "height": 0.8,
        "width": 0.8,
        "x": 0.1,
        "y": 0.1
       },
       "content": {
        "cell": "b0bab1ae-4f81-46b9-9206-a1f3285e2300",
        "part": "whole"
       },
       "id": "0508376d-36f3-45d3-a671-ce1612481439"
      }
     }
    },
    "31f6ac19-bec5-4851-9d2f-8851696438e6": {
     "id": "31f6ac19-bec5-4851-9d2f-8851696438e6",
     "prev": "f70caf1a-dfd8-4261-b633-15ba5a9db2ca",
     "regions": {
      "f9e120c2-a7cc-4f90-bae6-c1b9bb37978f": {
       "attrs": {
        "height": 0.8,
        "width": 0.8,
        "x": 0.1,
        "y": 0.1
       },
       "content": {
        "cell": "ae1086ce-6a92-4c35-959c-c467e1714907",
        "part": "whole"
       },
       "id": "f9e120c2-a7cc-4f90-bae6-c1b9bb37978f"
      }
     }
    },
    "322037bb-8539-4cc5-9f69-d07287216c80": {
     "id": "322037bb-8539-4cc5-9f69-d07287216c80",
     "prev": "d07b5bc3-ba9e-4f73-a682-4ba403fe954f",
     "regions": {
      "fa7e6c91-4e76-4e0c-81a3-c66b95038a4f": {
       "attrs": {
        "height": 0.8,
        "width": 0.8,
        "x": 0.1,
        "y": 0.1
       },
       "content": {
        "cell": "aac26d81-1361-4cb0-ae34-c049e882b741",
        "part": "whole"
       },
       "id": "fa7e6c91-4e76-4e0c-81a3-c66b95038a4f"
      }
     }
    },
    "33c4fe79-4ac1-4083-9db3-0e76549a9772": {
     "id": "33c4fe79-4ac1-4083-9db3-0e76549a9772",
     "prev": "f79348a1-f6ec-4991-914b-2294f1da1ae2",
     "regions": {
      "3ee559c0-46bf-48ed-91e2-644c61397352": {
       "attrs": {
        "height": 0.8,
        "width": 0.8,
        "x": 0.1,
        "y": 0.1
       },
       "content": {
        "cell": "d896e7a7-b833-4c1e-b84a-14a0fc217f76",
        "part": "whole"
       },
       "id": "3ee559c0-46bf-48ed-91e2-644c61397352"
      }
     }
    },
    "34913f9c-ffff-4c43-8bc2-5152055ac32d": {
     "id": "34913f9c-ffff-4c43-8bc2-5152055ac32d",
     "prev": "e5a06ece-0d96-4691-9a0c-4f66d4cebb36",
     "regions": {
      "02f630aa-cf3c-4936-983e-03c7515a9f75": {
       "attrs": {
        "height": 0.8,
        "width": 0.8,
        "x": 0.1,
        "y": 0.1
       },
       "content": {
        "cell": "a28d0e4d-f7cc-414d-9883-bbc8961195ab",
        "part": "whole"
       },
       "id": "02f630aa-cf3c-4936-983e-03c7515a9f75"
      }
     }
    },
    "3594644e-36ad-452f-888b-b6e924da46ad": {
     "id": "3594644e-36ad-452f-888b-b6e924da46ad",
     "prev": "60ee3cf1-fe61-43be-9bbd-2004b56bb610",
     "regions": {
      "10dd72d9-b6a6-46ee-aea5-a09dca0b5f79": {
       "attrs": {
        "height": 0.8,
        "width": 0.8,
        "x": 0.1,
        "y": 0.1
       },
       "content": {
        "cell": "242326e8-1d57-4dbf-9569-cfc07177c969",
        "part": "whole"
       },
       "id": "10dd72d9-b6a6-46ee-aea5-a09dca0b5f79"
      }
     }
    },
    "36ce2545-b00b-4321-95be-4c60b4cf2c74": {
     "id": "36ce2545-b00b-4321-95be-4c60b4cf2c74",
     "prev": "b369e2e0-a070-49c3-a61f-560dbd536c51",
     "regions": {
      "0706dfc7-2bdf-469d-ad8d-14b90f6d4efd": {
       "attrs": {
        "height": 0.8,
        "width": 0.8,
        "x": 0.1,
        "y": 0.1
       },
       "content": {
        "cell": "cf7a79b4-c082-4c50-9758-1b927ddd7c21",
        "part": "whole"
       },
       "id": "0706dfc7-2bdf-469d-ad8d-14b90f6d4efd"
      }
     }
    },
    "37f50c79-18e0-4714-9122-6d36d84b3693": {
     "id": "37f50c79-18e0-4714-9122-6d36d84b3693",
     "prev": "c5113fe5-4f38-49cc-8702-8939b24de7a1",
     "regions": {
      "93e7348f-b942-40c1-8a9a-c9fc8d86eb7b": {
       "attrs": {
        "height": 0.8,
        "width": 0.8,
        "x": 0.1,
        "y": 0.1
       },
       "content": {
        "cell": "861f04e9-6962-4a0b-b17f-a13b6145b0e8",
        "part": "whole"
       },
       "id": "93e7348f-b942-40c1-8a9a-c9fc8d86eb7b"
      }
     }
    },
    "38f25588-0aa8-41d1-8ccf-afa9785b2ee3": {
     "id": "38f25588-0aa8-41d1-8ccf-afa9785b2ee3",
     "prev": "dc289ec4-97ff-4269-a43c-4f181e21b645",
     "regions": {
      "f2fed9d9-f23d-4bb3-806a-69327fb36708": {
       "attrs": {
        "height": 0.8,
        "width": 0.8,
        "x": 0.1,
        "y": 0.1
       },
       "content": {
        "cell": "4a7245a0-374e-4202-840c-6230503dbe5c",
        "part": "whole"
       },
       "id": "f2fed9d9-f23d-4bb3-806a-69327fb36708"
      }
     }
    },
    "3a31dd58-f386-4754-94f2-cc42d8b2d05d": {
     "id": "3a31dd58-f386-4754-94f2-cc42d8b2d05d",
     "prev": "3a340ce8-f62d-4a4b-a431-b7c0175d8f45",
     "regions": {
      "4b2dc6fe-0e7c-4fdc-9215-cc493d6b9f29": {
       "attrs": {
        "height": 0.8,
        "width": 0.8,
        "x": 0.1,
        "y": 0.1
       },
       "content": {
        "cell": "39c6cd1c-2228-4a59-992f-dec99a6dc5e7",
        "part": "whole"
       },
       "id": "4b2dc6fe-0e7c-4fdc-9215-cc493d6b9f29"
      }
     }
    },
    "3a340ce8-f62d-4a4b-a431-b7c0175d8f45": {
     "id": "3a340ce8-f62d-4a4b-a431-b7c0175d8f45",
     "prev": "2db67ef0-8eb4-42d6-857d-c4272ce86a1e",
     "regions": {
      "aa9566e5-caed-46f7-a833-9f5638eed18e": {
       "attrs": {
        "height": 0.8,
        "width": 0.8,
        "x": 0.1,
        "y": 0.1
       },
       "content": {
        "cell": "b03c235b-12ef-4f68-914f-40c5bbfee7a1",
        "part": "whole"
       },
       "id": "aa9566e5-caed-46f7-a833-9f5638eed18e"
      }
     }
    },
    "3cd49755-2d94-45ec-bf18-bcf2ca156d9e": {
     "id": "3cd49755-2d94-45ec-bf18-bcf2ca156d9e",
     "prev": "01d9c408-af6e-43d4-a60e-ae2c9e4f8b92",
     "regions": {
      "0a351e60-c721-4f3b-9caa-d63d2dbaa593": {
       "attrs": {
        "height": 0.8,
        "width": 0.8,
        "x": 0.1,
        "y": 0.1
       },
       "content": {
        "cell": "8bb3ba89-5f59-444f-8c6f-95a29e5a35de",
        "part": "whole"
       },
       "id": "0a351e60-c721-4f3b-9caa-d63d2dbaa593"
      }
     }
    },
    "3dc99f97-8ad7-4c07-9458-2328377e7009": {
     "id": "3dc99f97-8ad7-4c07-9458-2328377e7009",
     "prev": "9af76663-eb76-42da-9a9f-021014087692",
     "regions": {
      "4b6bc6f8-e6e1-4b7e-983e-0ba60c547f53": {
       "attrs": {
        "height": 0.8,
        "width": 0.8,
        "x": 0.1,
        "y": 0.1
       },
       "content": {
        "cell": "9d2d198d-8043-4bb5-b39e-5490eefc3af5",
        "part": "whole"
       },
       "id": "4b6bc6f8-e6e1-4b7e-983e-0ba60c547f53"
      }
     }
    },
    "3f747bda-f0ca-4dcd-8c62-074d20f4ba51": {
     "id": "3f747bda-f0ca-4dcd-8c62-074d20f4ba51",
     "prev": "d378bf43-4e50-48bf-9fb4-c6c58b0465ad",
     "regions": {
      "c70b53b3-04ed-4c9a-a1af-c4f8bc9917b9": {
       "attrs": {
        "height": 0.8,
        "width": 0.8,
        "x": 0.1,
        "y": 0.1
       },
       "content": {
        "cell": "a3d18a7b-1bc7-4d1c-a1a8-152e36360469",
        "part": "whole"
       },
       "id": "c70b53b3-04ed-4c9a-a1af-c4f8bc9917b9"
      }
     }
    },
    "3f815e88-e182-4284-81df-84769186763b": {
     "id": "3f815e88-e182-4284-81df-84769186763b",
     "prev": "186bd1ba-4dba-4562-9bda-b988e9fd5763",
     "regions": {
      "2a6a0d94-dc75-4822-a9e7-5524a8b67a1e": {
       "attrs": {
        "height": 0.8,
        "width": 0.8,
        "x": 0.1,
        "y": 0.1
       },
       "content": {
        "cell": "2485f83c-3247-4996-bbf8-ecfc53cd71d7",
        "part": "whole"
       },
       "id": "2a6a0d94-dc75-4822-a9e7-5524a8b67a1e"
      }
     }
    },
    "4159bea6-d1ae-42d2-a00f-a49aaaeca809": {
     "id": "4159bea6-d1ae-42d2-a00f-a49aaaeca809",
     "prev": "f3ebe48a-8145-4650-90f5-9ac6f43c80c5",
     "regions": {
      "5017d388-c99b-4488-a225-707b11d6c34a": {
       "attrs": {
        "height": 0.8,
        "width": 0.8,
        "x": 0.1,
        "y": 0.1
       },
       "content": {
        "cell": "92907da1-3f4d-41cd-81a3-a52a83fb1b93",
        "part": "whole"
       },
       "id": "5017d388-c99b-4488-a225-707b11d6c34a"
      }
     }
    },
    "43e57f11-b6ca-4ba8-a793-4fe27cd4163c": {
     "id": "43e57f11-b6ca-4ba8-a793-4fe27cd4163c",
     "prev": "5d5e10e7-583f-4a2b-8b35-b1092b7a4f1c",
     "regions": {
      "a0414425-b005-496e-af7c-417b865dee8d": {
       "attrs": {
        "height": 0.8,
        "width": 0.8,
        "x": 0.1,
        "y": 0.1
       },
       "content": {
        "cell": "ebb5f78f-45f7-4111-9b40-bfecf87ad5a6",
        "part": "whole"
       },
       "id": "a0414425-b005-496e-af7c-417b865dee8d"
      }
     }
    },
    "4548d3fb-cdfe-4caa-9c35-6983bc52faf0": {
     "id": "4548d3fb-cdfe-4caa-9c35-6983bc52faf0",
     "prev": "2a5a55bf-8b11-403a-a7f2-27671f4513d0",
     "regions": {
      "a3d600ce-b98b-4a50-a069-4a6acfebc2e8": {
       "attrs": {
        "height": 0.8,
        "width": 0.8,
        "x": 0.1,
        "y": 0.1
       },
       "content": {
        "cell": "95a86402-8e27-4f79-951f-93b65143db1d",
        "part": "whole"
       },
       "id": "a3d600ce-b98b-4a50-a069-4a6acfebc2e8"
      }
     }
    },
    "4581dc4e-693b-4417-a859-70b541ccd8b0": {
     "id": "4581dc4e-693b-4417-a859-70b541ccd8b0",
     "prev": "7f179eef-f9f1-4427-a9e0-82c9fd412f2f",
     "regions": {
      "6a36ca2e-bd95-4db4-8c29-a81ab500ac82": {
       "attrs": {
        "height": 0.8,
        "width": 0.8,
        "x": 0.1,
        "y": 0.1
       },
       "content": {
        "cell": "c41af29c-1b70-4a75-b415-fe26d88cc281",
        "part": "whole"
       },
       "id": "6a36ca2e-bd95-4db4-8c29-a81ab500ac82"
      }
     }
    },
    "4a1e5b47-14e6-4627-84ca-d58c47b2415c": {
     "id": "4a1e5b47-14e6-4627-84ca-d58c47b2415c",
     "prev": "aa01f99b-1f36-47ef-bfe0-bb2767af8a95",
     "regions": {
      "ea5e6a71-9426-466f-b79c-7f5ac22bc2a6": {
       "attrs": {
        "height": 0.8,
        "width": 0.8,
        "x": 0.1,
        "y": 0.1
       },
       "content": {
        "cell": "0545c4f5-bb87-4d32-b3d8-e2b4f970b7ce",
        "part": "whole"
       },
       "id": "ea5e6a71-9426-466f-b79c-7f5ac22bc2a6"
      }
     }
    },
    "4ed4e6f5-0d7a-4fae-882a-34c20cfac305": {
     "id": "4ed4e6f5-0d7a-4fae-882a-34c20cfac305",
     "prev": "e38eed27-3f1d-46ad-be08-d5785d3c5032",
     "regions": {
      "560a02de-7866-4cca-a9c6-f830fb99e74c": {
       "attrs": {
        "height": 0.8,
        "width": 0.8,
        "x": 0.1,
        "y": 0.1
       },
       "content": {
        "cell": "f6f0d163-08b8-40cc-88f6-d0afe79b6206",
        "part": "whole"
       },
       "id": "560a02de-7866-4cca-a9c6-f830fb99e74c"
      }
     }
    },
    "504d692b-c662-43d6-af5a-383d9841d678": {
     "id": "504d692b-c662-43d6-af5a-383d9841d678",
     "prev": "a2f63e4d-260e-42f6-8b26-df411810c2f4",
     "regions": {
      "bb6c5ee8-812b-4cee-84af-cf51c05b3979": {
       "attrs": {
        "height": 0.8,
        "width": 0.8,
        "x": 0.1,
        "y": 0.1
       },
       "content": {
        "cell": "43696442-22c2-4789-ad80-ca37e033232e",
        "part": "whole"
       },
       "id": "bb6c5ee8-812b-4cee-84af-cf51c05b3979"
      }
     }
    },
    "513f1d4a-cc98-4726-a457-db40d8b724a5": {
     "id": "513f1d4a-cc98-4726-a457-db40d8b724a5",
     "prev": "b56cf087-530b-4a53-b11d-e24bb21c3af8",
     "regions": {
      "47581345-94c4-4a45-b59b-1240207500b4": {
       "attrs": {
        "height": 0.8,
        "width": 0.8,
        "x": 0.1,
        "y": 0.1
       },
       "content": {
        "cell": "c7b4c9b1-c029-450c-9a13-3e85250d1707",
        "part": "whole"
       },
       "id": "47581345-94c4-4a45-b59b-1240207500b4"
      }
     }
    },
    "531de43c-f849-4e5a-8eb4-4a1b6def0ec8": {
     "id": "531de43c-f849-4e5a-8eb4-4a1b6def0ec8",
     "prev": "94fa95a5-88bd-4bbd-9bf5-f1f3e30004f2",
     "regions": {
      "415e2d44-6ec5-4a23-8502-ec462b29b931": {
       "attrs": {
        "height": 0.8,
        "width": 0.8,
        "x": 0.1,
        "y": 0.1
       },
       "content": {
        "cell": "a791f431-7ba8-4514-8bf1-02f874b3bcef",
        "part": "whole"
       },
       "id": "415e2d44-6ec5-4a23-8502-ec462b29b931"
      }
     }
    },
    "537b92f3-3971-4a53-826b-6a34119efad1": {
     "id": "537b92f3-3971-4a53-826b-6a34119efad1",
     "prev": "ed4b2f4d-5c3d-4bb4-b5af-c00b9045157e",
     "regions": {
      "6f0184cc-9a2a-421a-aa9f-dce288079cab": {
       "attrs": {
        "height": 0.8,
        "width": 0.8,
        "x": 0.1,
        "y": 0.1
       },
       "content": {
        "cell": "4084066d-134d-4799-af69-4ca5f5bf328f",
        "part": "whole"
       },
       "id": "6f0184cc-9a2a-421a-aa9f-dce288079cab"
      }
     }
    },
    "5543bbfe-b4fc-4087-ab65-1fed5f6a50fd": {
     "id": "5543bbfe-b4fc-4087-ab65-1fed5f6a50fd",
     "prev": "b4b7cc31-f34b-4fd8-85f0-eb04abbcbc0b",
     "regions": {
      "c99f67ee-ae3d-44f0-b152-51b1fbb97834": {
       "attrs": {
        "height": 0.8,
        "width": 0.8,
        "x": 0.1,
        "y": 0.1
       },
       "content": {
        "cell": "db51e4a7-ded4-4df2-b8ca-90ccb38020ae",
        "part": "whole"
       },
       "id": "c99f67ee-ae3d-44f0-b152-51b1fbb97834"
      }
     }
    },
    "5557d0c2-f63c-4e3f-884b-7294269c5b58": {
     "id": "5557d0c2-f63c-4e3f-884b-7294269c5b58",
     "prev": "783483c1-045e-4dca-8f00-6c6e6c045613",
     "regions": {
      "063a0ad8-b065-4501-bbe7-72f339d9c670": {
       "attrs": {
        "height": 0.8,
        "width": 0.8,
        "x": 0.1,
        "y": 0.1
       },
       "content": {
        "cell": "c9d05c4c-109c-40fa-9505-81d1489dfe3e",
        "part": "whole"
       },
       "id": "063a0ad8-b065-4501-bbe7-72f339d9c670"
      }
     }
    },
    "566cd40a-3301-421f-b7d8-51b9d2119054": {
     "id": "566cd40a-3301-421f-b7d8-51b9d2119054",
     "prev": "008ac1bc-7bc2-4a07-a412-9ff9fbbca194",
     "regions": {
      "353f4f94-bfd2-4f62-988c-8b2811d0cea6": {
       "attrs": {
        "height": 0.8,
        "width": 0.8,
        "x": 0.1,
        "y": 0.1
       },
       "content": {
        "cell": "4688f260-006a-4146-bd49-098ea4dcb1d9",
        "part": "whole"
       },
       "id": "353f4f94-bfd2-4f62-988c-8b2811d0cea6"
      }
     }
    },
    "572cb276-c263-4427-ae02-9e83232fe66e": {
     "id": "572cb276-c263-4427-ae02-9e83232fe66e",
     "prev": "ba68546b-239b-4c10-b009-a0f1ba692043",
     "regions": {
      "822bf24e-ce65-4154-b520-3927caa34622": {
       "attrs": {
        "height": 0.8,
        "width": 0.8,
        "x": 0.1,
        "y": 0.1
       },
       "content": {
        "cell": "e07b8655-036d-4185-9f5e-f7cdf0d6deb8",
        "part": "whole"
       },
       "id": "822bf24e-ce65-4154-b520-3927caa34622"
      }
     }
    },
    "583d7367-5028-4bc5-850b-d91953504ace": {
     "id": "583d7367-5028-4bc5-850b-d91953504ace",
     "prev": "a43ca214-d532-4343-96b9-a7bc5db8cf11",
     "regions": {
      "9a2c9832-bc93-41fa-a585-533833abe476": {
       "attrs": {
        "height": 0.8,
        "width": 0.8,
        "x": 0.1,
        "y": 0.1
       },
       "content": {
        "cell": "2992ee34-7ae6-44a2-be51-5b5992da310c",
        "part": "whole"
       },
       "id": "9a2c9832-bc93-41fa-a585-533833abe476"
      }
     }
    },
    "584bb9dc-ff2e-4e3b-91c4-4673fc323104": {
     "id": "584bb9dc-ff2e-4e3b-91c4-4673fc323104",
     "prev": "fae2ab31-1b65-425c-87dc-851ecce258bf",
     "regions": {
      "b2ca2479-c6c6-4f56-92af-0c34493d9dda": {
       "attrs": {
        "height": 0.8,
        "width": 0.8,
        "x": 0.1,
        "y": 0.1
       },
       "content": {
        "cell": "9d58515c-68b4-4c58-a179-eed5332cdb35",
        "part": "whole"
       },
       "id": "b2ca2479-c6c6-4f56-92af-0c34493d9dda"
      }
     }
    },
    "585712f1-df10-473a-8183-2dd0bd26c7fd": {
     "id": "585712f1-df10-473a-8183-2dd0bd26c7fd",
     "prev": "584bb9dc-ff2e-4e3b-91c4-4673fc323104",
     "regions": {
      "315d6eb3-9742-44f4-9249-7e1256dc434f": {
       "attrs": {
        "height": 0.8,
        "width": 0.8,
        "x": 0.1,
        "y": 0.1
       },
       "content": {
        "cell": "713c83e0-d600-49b4-98ac-ede232183536",
        "part": "whole"
       },
       "id": "315d6eb3-9742-44f4-9249-7e1256dc434f"
      }
     }
    },
    "58f9ed17-021c-47d7-a0df-127a28df3bee": {
     "id": "58f9ed17-021c-47d7-a0df-127a28df3bee",
     "prev": "feb129a1-a347-41a8-83bf-59548f2d97b2",
     "regions": {
      "84278fba-eb4d-4e85-9a08-b88496a803f2": {
       "attrs": {
        "height": 0.8,
        "width": 0.8,
        "x": 0.1,
        "y": 0.1
       },
       "content": {
        "cell": "fddc2a33-004a-4726-a9fa-8a7a32a6f174",
        "part": "whole"
       },
       "id": "84278fba-eb4d-4e85-9a08-b88496a803f2"
      }
     }
    },
    "5979abcb-e71e-49c7-9da5-6f4d6a5d416d": {
     "id": "5979abcb-e71e-49c7-9da5-6f4d6a5d416d",
     "prev": "566cd40a-3301-421f-b7d8-51b9d2119054",
     "regions": {
      "827f87ff-2b1e-442d-be07-d0720d26cc70": {
       "attrs": {
        "height": 0.8,
        "width": 0.8,
        "x": 0.1,
        "y": 0.1
       },
       "content": {
        "cell": "59456824-7e5a-4b66-b16d-3bec660a39cb",
        "part": "whole"
       },
       "id": "827f87ff-2b1e-442d-be07-d0720d26cc70"
      }
     }
    },
    "59858481-9567-4d63-9d16-d556123932b4": {
     "id": "59858481-9567-4d63-9d16-d556123932b4",
     "prev": "8a7cf489-e812-456f-b2a3-bdae52462c54",
     "regions": {
      "177fd630-e153-4a56-a2b9-01fc99f219a2": {
       "attrs": {
        "height": 0.8,
        "width": 0.8,
        "x": 0.1,
        "y": 0.1
       },
       "content": {
        "cell": "cf1b8efd-46b1-45d0-9c0e-b331c72a1547",
        "part": "whole"
       },
       "id": "177fd630-e153-4a56-a2b9-01fc99f219a2"
      }
     }
    },
    "59fe3d9a-f675-4ccb-9464-4db70fe35ace": {
     "id": "59fe3d9a-f675-4ccb-9464-4db70fe35ace",
     "prev": "1411769a-33b2-4742-8590-2de307d3c74c",
     "regions": {
      "f71c895f-6027-4db0-823b-9f0e55c78e78": {
       "attrs": {
        "height": 0.8,
        "width": 0.8,
        "x": 0.1,
        "y": 0.1
       },
       "content": {
        "cell": "af7156d5-54c6-4241-8969-9593473193c9",
        "part": "whole"
       },
       "id": "f71c895f-6027-4db0-823b-9f0e55c78e78"
      }
     }
    },
    "5a5e8380-8de9-4fcd-959d-17092bb52fa1": {
     "id": "5a5e8380-8de9-4fcd-959d-17092bb52fa1",
     "prev": "583d7367-5028-4bc5-850b-d91953504ace",
     "regions": {
      "0c768700-6ea1-4c06-99fd-3e3c128ce765": {
       "attrs": {
        "height": 0.8,
        "width": 0.8,
        "x": 0.1,
        "y": 0.1
       },
       "content": {
        "cell": "10714963-fa5b-4cb5-ad3e-64e2f51639c7",
        "part": "whole"
       },
       "id": "0c768700-6ea1-4c06-99fd-3e3c128ce765"
      }
     }
    },
    "5c75cb64-26ac-4fec-ba10-cdeceb260d78": {
     "id": "5c75cb64-26ac-4fec-ba10-cdeceb260d78",
     "prev": "6517d7ce-1e3c-4263-8fd8-08743fb6b7ac",
     "regions": {
      "6033fe3c-00a2-47f3-abf5-9db8583493fc": {
       "attrs": {
        "height": 0.8,
        "width": 0.8,
        "x": 0.1,
        "y": 0.1
       },
       "content": {
        "cell": "361d6d9a-a91b-41df-a4a2-05fd7f8a9644",
        "part": "whole"
       },
       "id": "6033fe3c-00a2-47f3-abf5-9db8583493fc"
      }
     }
    },
    "5d5e10e7-583f-4a2b-8b35-b1092b7a4f1c": {
     "id": "5d5e10e7-583f-4a2b-8b35-b1092b7a4f1c",
     "prev": "d9a18811-8cea-4d56-a6b5-9b2d23d9c216",
     "regions": {
      "4cfdf5a1-3e59-426f-a7f2-906f9ed99499": {
       "attrs": {
        "height": 0.8,
        "width": 0.8,
        "x": 0.1,
        "y": 0.1
       },
       "content": {
        "cell": "685b42c3-e804-4e3f-b6e8-b542514a2e99",
        "part": "whole"
       },
       "id": "4cfdf5a1-3e59-426f-a7f2-906f9ed99499"
      }
     }
    },
    "5ddcb96d-65ed-4833-9b2d-8323280b046c": {
     "id": "5ddcb96d-65ed-4833-9b2d-8323280b046c",
     "prev": "19bb3dd8-3607-4499-9de1-df2ea2af4d16",
     "regions": {
      "da493047-e219-486e-b213-093572bf7a71": {
       "attrs": {
        "height": 0.8,
        "width": 0.8,
        "x": 0.1,
        "y": 0.1
       },
       "content": {
        "cell": "f9fcc81b-bcde-40bd-b086-9625d9b60d75",
        "part": "whole"
       },
       "id": "da493047-e219-486e-b213-093572bf7a71"
      }
     }
    },
    "5e6b30e2-2ef9-441d-89d8-05cc77878db5": {
     "id": "5e6b30e2-2ef9-441d-89d8-05cc77878db5",
     "prev": "5a5e8380-8de9-4fcd-959d-17092bb52fa1",
     "regions": {
      "83a986e1-3aab-4639-b3b7-c6356ed39732": {
       "attrs": {
        "height": 0.8,
        "width": 0.8,
        "x": 0.1,
        "y": 0.1
       },
       "content": {
        "cell": "0b3ba154-1f72-4eb6-bb36-2f60d97a1abc",
        "part": "whole"
       },
       "id": "83a986e1-3aab-4639-b3b7-c6356ed39732"
      }
     }
    },
    "60324647-5f3c-4db8-a0da-609b99f09f05": {
     "id": "60324647-5f3c-4db8-a0da-609b99f09f05",
     "prev": "306387ea-8576-4d6a-b0b7-a70a2beb7583",
     "regions": {
      "c0eef907-a491-4ed2-87d4-82e66b663c55": {
       "attrs": {
        "height": 0.8,
        "width": 0.8,
        "x": 0.1,
        "y": 0.1
       },
       "content": {
        "cell": "e09782c5-a372-487f-9380-c78958594799",
        "part": "whole"
       },
       "id": "c0eef907-a491-4ed2-87d4-82e66b663c55"
      }
     }
    },
    "60ee3cf1-fe61-43be-9bbd-2004b56bb610": {
     "id": "60ee3cf1-fe61-43be-9bbd-2004b56bb610",
     "prev": "537b92f3-3971-4a53-826b-6a34119efad1",
     "regions": {
      "4010d835-a614-43a7-9f0d-d94bef2d8711": {
       "attrs": {
        "height": 0.8,
        "width": 0.8,
        "x": 0.1,
        "y": 0.1
       },
       "content": {
        "cell": "9a91f44b-5fb3-4d72-828b-bad985113cd2",
        "part": "whole"
       },
       "id": "4010d835-a614-43a7-9f0d-d94bef2d8711"
      }
     }
    },
    "61eee5ac-1971-4b13-a834-2a2204af1094": {
     "id": "61eee5ac-1971-4b13-a834-2a2204af1094",
     "prev": "ee3004c2-c5af-4792-8e2d-719054c82814",
     "regions": {
      "91f2d641-f57f-400e-a9f5-46a0ff29aa45": {
       "attrs": {
        "height": 0.8,
        "width": 0.8,
        "x": 0.1,
        "y": 0.1
       },
       "content": {
        "cell": "0df81b06-e998-41c4-ba56-2c380422d9e7",
        "part": "whole"
       },
       "id": "91f2d641-f57f-400e-a9f5-46a0ff29aa45"
      }
     }
    },
    "63be6afc-f11d-4c47-9329-51e9b53de8de": {
     "id": "63be6afc-f11d-4c47-9329-51e9b53de8de",
     "prev": "70a45755-9f97-4e39-944b-0ed46fc6f67a",
     "regions": {
      "bb4692e4-a07f-44b8-a7da-cd22967a6272": {
       "attrs": {
        "height": 0.8,
        "width": 0.8,
        "x": 0.1,
        "y": 0.1
       },
       "content": {
        "cell": "686a7ed8-4223-490f-9380-7fc587b15ce3",
        "part": "whole"
       },
       "id": "bb4692e4-a07f-44b8-a7da-cd22967a6272"
      }
     }
    },
    "6517d7ce-1e3c-4263-8fd8-08743fb6b7ac": {
     "id": "6517d7ce-1e3c-4263-8fd8-08743fb6b7ac",
     "prev": "3a31dd58-f386-4754-94f2-cc42d8b2d05d",
     "regions": {
      "5a99e31e-ff74-469a-85eb-fd4787b5a1c4": {
       "attrs": {
        "height": 0.8,
        "width": 0.8,
        "x": 0.1,
        "y": 0.1
       },
       "content": {
        "cell": "dbf764c2-f81b-40f0-8f47-c1686416594c",
        "part": "whole"
       },
       "id": "5a99e31e-ff74-469a-85eb-fd4787b5a1c4"
      }
     }
    },
    "66bc13eb-1084-4f6c-9b50-a665cad57e27": {
     "id": "66bc13eb-1084-4f6c-9b50-a665cad57e27",
     "prev": "c763af73-29a3-4652-89df-10be17368733",
     "regions": {
      "33cc2fa4-730d-4a83-b566-6f5b43b95bab": {
       "attrs": {
        "height": 0.8,
        "width": 0.8,
        "x": 0.1,
        "y": 0.1
       },
       "content": {
        "cell": "3016d8e9-cc86-4a20-88b5-62e6eeb0ae2f",
        "part": "whole"
       },
       "id": "33cc2fa4-730d-4a83-b566-6f5b43b95bab"
      }
     }
    },
    "6793801a-8b61-4bf6-ade0-2231f600362e": {
     "id": "6793801a-8b61-4bf6-ade0-2231f600362e",
     "prev": "1b9e05b6-86d8-4aff-8856-abb7e13cf6b2",
     "regions": {
      "4ae5a4cc-e420-489c-9d1a-5ea7e31a261b": {
       "attrs": {
        "height": 0.8,
        "width": 0.8,
        "x": 0.1,
        "y": 0.1
       },
       "content": {
        "cell": "2ae3af0a-186c-4d12-b067-09f466ec53dd",
        "part": "whole"
       },
       "id": "4ae5a4cc-e420-489c-9d1a-5ea7e31a261b"
      }
     }
    },
    "67b42322-4cf7-4f40-a074-bec7b90c60a0": {
     "id": "67b42322-4cf7-4f40-a074-bec7b90c60a0",
     "prev": "b3c24d30-90a4-4bd9-a830-9810f97815a1",
     "regions": {
      "2bae570b-7bea-481a-bd37-cf3499d73959": {
       "attrs": {
        "height": 0.8,
        "width": 0.8,
        "x": 0.1,
        "y": 0.1
       },
       "content": {
        "cell": "4a23de11-2ef1-48f4-b9e4-d46dececc7b7",
        "part": "whole"
       },
       "id": "2bae570b-7bea-481a-bd37-cf3499d73959"
      }
     }
    },
    "684d4a3a-4f9e-40b0-944b-4f13f5c02644": {
     "id": "684d4a3a-4f9e-40b0-944b-4f13f5c02644",
     "prev": "1be0dc15-7ae3-4351-b7b4-6d7770d879b2",
     "regions": {
      "68fa01ae-b8aa-4e4f-bf35-9d22685a1a61": {
       "attrs": {
        "height": 0.8,
        "width": 0.8,
        "x": 0.1,
        "y": 0.1
       },
       "content": {
        "cell": "906b44d1-bae7-4815-bf8a-056f2a736b94",
        "part": "whole"
       },
       "id": "68fa01ae-b8aa-4e4f-bf35-9d22685a1a61"
      }
     }
    },
    "69c20b06-9e85-423f-9e01-73dc314c6b3a": {
     "id": "69c20b06-9e85-423f-9e01-73dc314c6b3a",
     "prev": "3f815e88-e182-4284-81df-84769186763b",
     "regions": {
      "8fd5c5c9-7fee-404c-b2a0-f4206d0a08bf": {
       "attrs": {
        "height": 0.8,
        "width": 0.8,
        "x": 0.1,
        "y": 0.1
       },
       "content": {
        "cell": "de5c23c2-7a09-4c5c-9b3b-b6d3ba207272",
        "part": "whole"
       },
       "id": "8fd5c5c9-7fee-404c-b2a0-f4206d0a08bf"
      }
     }
    },
    "6b21523f-37fc-472e-843f-b6381c425c1c": {
     "id": "6b21523f-37fc-472e-843f-b6381c425c1c",
     "prev": "1325ce6d-7e0c-401e-8735-1c42b8bd453d",
     "regions": {
      "ddfbb434-6fa1-410c-a1db-3d82a4024b46": {
       "attrs": {
        "height": 0.8,
        "width": 0.8,
        "x": 0.1,
        "y": 0.1
       },
       "content": {
        "cell": "fc5be6bd-39e6-4980-a872-c59a276323f1",
        "part": "whole"
       },
       "id": "ddfbb434-6fa1-410c-a1db-3d82a4024b46"
      }
     }
    },
    "70a45755-9f97-4e39-944b-0ed46fc6f67a": {
     "id": "70a45755-9f97-4e39-944b-0ed46fc6f67a",
     "prev": "ce95334a-4f1f-4335-a52c-8b43011d38c8",
     "regions": {
      "633f0a5e-3045-4285-b59d-35aa4c8fc770": {
       "attrs": {
        "height": 0.8,
        "width": 0.8,
        "x": 0.1,
        "y": 0.1
       },
       "content": {
        "cell": "f26b681a-07d8-4115-b922-da8e4f847fb2",
        "part": "whole"
       },
       "id": "633f0a5e-3045-4285-b59d-35aa4c8fc770"
      }
     }
    },
    "7370cda1-042b-445a-94c2-54a0f4dc928d": {
     "id": "7370cda1-042b-445a-94c2-54a0f4dc928d",
     "prev": "03ad5a3b-4f53-4102-8491-db2c591807d6",
     "regions": {
      "1eeccdc3-73f1-48a1-a853-3ed91509754c": {
       "attrs": {
        "height": 0.8,
        "width": 0.8,
        "x": 0.1,
        "y": 0.1
       },
       "content": {
        "cell": "de702d43-214e-4e72-8713-bc24193b25ae",
        "part": "whole"
       },
       "id": "1eeccdc3-73f1-48a1-a853-3ed91509754c"
      }
     }
    },
    "7630b499-ae37-44f1-9d1e-b595e08cd6a1": {
     "id": "7630b499-ae37-44f1-9d1e-b595e08cd6a1",
     "prev": "31f6ac19-bec5-4851-9d2f-8851696438e6",
     "regions": {
      "3e81a071-45f7-4dff-b6dd-55f78c7eb1a4": {
       "attrs": {
        "height": 0.8,
        "width": 0.8,
        "x": 0.1,
        "y": 0.1
       },
       "content": {
        "cell": "286ddb7b-9f8e-4a2d-823f-7aec3d6b3318",
        "part": "whole"
       },
       "id": "3e81a071-45f7-4dff-b6dd-55f78c7eb1a4"
      }
     }
    },
    "783483c1-045e-4dca-8f00-6c6e6c045613": {
     "id": "783483c1-045e-4dca-8f00-6c6e6c045613",
     "prev": "1a87d817-0539-4bd9-a318-b563a1e2b0a1",
     "regions": {
      "9d28b67b-f607-4928-9ec6-9c289bc9b966": {
       "attrs": {
        "height": 0.8,
        "width": 0.8,
        "x": 0.1,
        "y": 0.1
       },
       "content": {
        "cell": "76cc6655-778b-4819-957b-ae858b836a2a",
        "part": "whole"
       },
       "id": "9d28b67b-f607-4928-9ec6-9c289bc9b966"
      }
     }
    },
    "7bafbeaa-a166-498f-bd75-583e3004dd0b": {
     "id": "7bafbeaa-a166-498f-bd75-583e3004dd0b",
     "prev": "66bc13eb-1084-4f6c-9b50-a665cad57e27",
     "regions": {
      "8336fa53-6af5-47c1-9fb5-e47deaec7748": {
       "attrs": {
        "height": 0.8,
        "width": 0.8,
        "x": 0.1,
        "y": 0.1
       },
       "content": {
        "cell": "82630b06-45e4-4d42-93f1-d158e2bcf983",
        "part": "whole"
       },
       "id": "8336fa53-6af5-47c1-9fb5-e47deaec7748"
      }
     }
    },
    "7f0587a4-0f5c-48d2-bf7d-d3703d548040": {
     "id": "7f0587a4-0f5c-48d2-bf7d-d3703d548040",
     "prev": "a121d98f-546e-49a5-b783-ed39e9a771d5",
     "regions": {
      "12db2481-00b3-404e-ae2a-0993582e4d82": {
       "attrs": {
        "height": 0.8,
        "width": 0.8,
        "x": 0.1,
        "y": 0.1
       },
       "content": {
        "cell": "39e71eb2-0311-4b09-bfb3-2a814e8f2567",
        "part": "whole"
       },
       "id": "12db2481-00b3-404e-ae2a-0993582e4d82"
      }
     }
    },
    "7f179eef-f9f1-4427-a9e0-82c9fd412f2f": {
     "id": "7f179eef-f9f1-4427-a9e0-82c9fd412f2f",
     "prev": "572cb276-c263-4427-ae02-9e83232fe66e",
     "regions": {
      "687c9da5-57c0-40c7-b189-174d28552c6b": {
       "attrs": {
        "height": 0.8,
        "width": 0.8,
        "x": 0.1,
        "y": 0.1
       },
       "content": {
        "cell": "f1f834ce-c006-41f4-a3a0-c979155839db",
        "part": "whole"
       },
       "id": "687c9da5-57c0-40c7-b189-174d28552c6b"
      }
     }
    },
    "83dc2612-0e31-4456-b0d3-9b3c8db0b69f": {
     "id": "83dc2612-0e31-4456-b0d3-9b3c8db0b69f",
     "prev": "fd0b6506-4082-4e78-8bf3-464d50b7c4a5",
     "regions": {
      "9543b2d1-60b1-45cc-9aaa-378089df1f7c": {
       "attrs": {
        "height": 0.8,
        "width": 0.8,
        "x": 0.1,
        "y": 0.1
       },
       "content": {
        "cell": "24847a3d-703b-4567-8b5e-d0a2562a9ebe",
        "part": "whole"
       },
       "id": "9543b2d1-60b1-45cc-9aaa-378089df1f7c"
      }
     }
    },
    "864cb657-ef88-46d4-8f8f-39feeeff6fd7": {
     "id": "864cb657-ef88-46d4-8f8f-39feeeff6fd7",
     "prev": "b3e83f38-37ac-4a92-97fc-87787083ce6d",
     "regions": {
      "14ab9875-4072-4b4e-a8e5-e3e4861aa509": {
       "attrs": {
        "height": 0.8,
        "width": 0.8,
        "x": 0.1,
        "y": 0.1
       },
       "content": {
        "cell": "54b092e7-fe51-40cf-af5f-16e0d8b1d8bb",
        "part": "whole"
       },
       "id": "14ab9875-4072-4b4e-a8e5-e3e4861aa509"
      }
     }
    },
    "8a67997b-9ee1-4809-9fe3-1f4f337bc796": {
     "id": "8a67997b-9ee1-4809-9fe3-1f4f337bc796",
     "prev": "58f9ed17-021c-47d7-a0df-127a28df3bee",
     "regions": {
      "99b2c246-c290-4382-84a5-acedd4333643": {
       "attrs": {
        "height": 0.8,
        "width": 0.8,
        "x": 0.1,
        "y": 0.1
       },
       "content": {
        "cell": "d7daf4dd-c2e0-4ece-9a83-968789b4eceb",
        "part": "whole"
       },
       "id": "99b2c246-c290-4382-84a5-acedd4333643"
      }
     }
    },
    "8a7cf489-e812-456f-b2a3-bdae52462c54": {
     "id": "8a7cf489-e812-456f-b2a3-bdae52462c54",
     "prev": "5979abcb-e71e-49c7-9da5-6f4d6a5d416d",
     "regions": {
      "497a6045-8df1-43ed-89e7-59810551f1a9": {
       "attrs": {
        "height": 0.8,
        "width": 0.8,
        "x": 0.1,
        "y": 0.1
       },
       "content": {
        "cell": "67ffc2e1-3271-400e-b833-68c43e3f4431",
        "part": "whole"
       },
       "id": "497a6045-8df1-43ed-89e7-59810551f1a9"
      }
     }
    },
    "8d325c4f-5284-41f2-999e-6892302c33c0": {
     "id": "8d325c4f-5284-41f2-999e-6892302c33c0",
     "prev": "37f50c79-18e0-4714-9122-6d36d84b3693",
     "regions": {
      "1dbcf0f7-ed9a-47a4-a0b7-4c788888d630": {
       "attrs": {
        "height": 0.8,
        "width": 0.8,
        "x": 0.1,
        "y": 0.1
       },
       "content": {
        "cell": "698643b4-342e-4470-a3da-202eadc88013",
        "part": "whole"
       },
       "id": "1dbcf0f7-ed9a-47a4-a0b7-4c788888d630"
      }
     }
    },
    "8efc0e8d-93ec-42e0-b889-ec3cf83f9fd4": {
     "id": "8efc0e8d-93ec-42e0-b889-ec3cf83f9fd4",
     "prev": "ea833868-5711-48e8-8282-9d5ea97139a2",
     "regions": {
      "3e4cc0dd-69e4-46d9-a890-0f19176bd224": {
       "attrs": {
        "height": 0.8,
        "width": 0.8,
        "x": 0.1,
        "y": 0.1
       },
       "content": {
        "cell": "802f31ae-17f8-4bd7-a601-046eb77bc642",
        "part": "whole"
       },
       "id": "3e4cc0dd-69e4-46d9-a890-0f19176bd224"
      }
     }
    },
    "8f04d608-3062-4ec9-acc8-e4936b90f71a": {
     "id": "8f04d608-3062-4ec9-acc8-e4936b90f71a",
     "prev": "e596fd61-e1e8-42c4-8b9b-34467e413d81",
     "regions": {
      "516b77f7-ea1c-416f-b213-d2db1c0bb380": {
       "attrs": {
        "height": 0.8,
        "width": 0.8,
        "x": 0.1,
        "y": 0.1
       },
       "content": {
        "cell": "3b31464c-ac60-467c-b8fa-5353af9bc20d",
        "part": "whole"
       },
       "id": "516b77f7-ea1c-416f-b213-d2db1c0bb380"
      }
     }
    },
    "8fe8a479-01e7-4cea-bceb-9058d4fa5ebe": {
     "id": "8fe8a479-01e7-4cea-bceb-9058d4fa5ebe",
     "prev": "1d705b1a-f12a-4f3a-9b7f-6d4eaf7a77cf",
     "regions": {
      "29cf7efa-71f0-4ceb-afe0-d6a30d02c493": {
       "attrs": {
        "height": 0.8,
        "width": 0.8,
        "x": 0.1,
        "y": 0.1
       },
       "content": {
        "cell": "4fbb03d6-678b-4139-9fd0-48d508c16d4b",
        "part": "whole"
       },
       "id": "29cf7efa-71f0-4ceb-afe0-d6a30d02c493"
      }
     }
    },
    "948f8462-efbe-45d7-98e3-cd1f5e8e3b3b": {
     "id": "948f8462-efbe-45d7-98e3-cd1f5e8e3b3b",
     "prev": "238f64e2-f8e3-40b0-8ebf-cfc33817d145",
     "regions": {
      "5953dba4-39ec-4e60-bd67-fa2d0c4b1f09": {
       "attrs": {
        "height": 0.8,
        "width": 0.8,
        "x": 0.1,
        "y": 0.1
       },
       "content": {
        "cell": "41f15bbf-0842-454e-85b7-a3c642112376",
        "part": "whole"
       },
       "id": "5953dba4-39ec-4e60-bd67-fa2d0c4b1f09"
      }
     }
    },
    "94fa95a5-88bd-4bbd-9bf5-f1f3e30004f2": {
     "id": "94fa95a5-88bd-4bbd-9bf5-f1f3e30004f2",
     "prev": "ca1fa132-b71c-445a-9dbf-ed6c8aa7b8c3",
     "regions": {
      "1e9c8776-e1c4-4199-8163-61049db222a9": {
       "attrs": {
        "height": 0.8,
        "width": 0.8,
        "x": 0.1,
        "y": 0.1
       },
       "content": {
        "cell": "6aa53af4-3df2-4b0b-9d91-5d8ee9ba519d",
        "part": "whole"
       },
       "id": "1e9c8776-e1c4-4199-8163-61049db222a9"
      }
     }
    },
    "966dfd5d-de40-4f99-875c-6534c226e8a1": {
     "id": "966dfd5d-de40-4f99-875c-6534c226e8a1",
     "prev": "ab3b44aa-be0c-4ddb-8b99-b34b32902ef5",
     "regions": {
      "0e7e79e7-f5ca-4054-b302-9019488e322c": {
       "attrs": {
        "height": 0.8,
        "width": 0.8,
        "x": 0.1,
        "y": 0.1
       },
       "content": {
        "cell": "e8382eec-5621-4992-b762-8cf79c82ee75",
        "part": "whole"
       },
       "id": "0e7e79e7-f5ca-4054-b302-9019488e322c"
      }
     }
    },
    "96d52bd7-99c2-453d-a4b3-c9c5e685fbb6": {
     "id": "96d52bd7-99c2-453d-a4b3-c9c5e685fbb6",
     "prev": "2ae0c21c-ce3c-4b3d-9865-30c4ea36b951",
     "regions": {
      "623f5f66-86ba-4e4f-9941-85364d79756c": {
       "attrs": {
        "height": 0.8,
        "width": 0.8,
        "x": 0.1,
        "y": 0.1
       },
       "content": {
        "cell": "b014d5d5-f700-4ff1-ac4f-63e25dc0070e",
        "part": "whole"
       },
       "id": "623f5f66-86ba-4e4f-9941-85364d79756c"
      }
     }
    },
    "98d4dedf-dfed-4b82-b2e2-6e21d7d293c2": {
     "id": "98d4dedf-dfed-4b82-b2e2-6e21d7d293c2",
     "prev": null,
     "regions": {
      "f067b23b-f49d-44ed-a11e-0fe9f144243d": {
       "attrs": {
        "height": 0.8,
        "width": 0.8,
        "x": 0.1,
        "y": 0.1
       },
       "content": {
        "cell": "966ab8ca-df89-42fc-a25d-1aa92df875d7",
        "part": "whole"
       },
       "id": "f067b23b-f49d-44ed-a11e-0fe9f144243d"
      }
     }
    },
    "9af76663-eb76-42da-9a9f-021014087692": {
     "id": "9af76663-eb76-42da-9a9f-021014087692",
     "prev": "a7e5961e-5abd-47a6-b73b-1a55c4e1d2ee",
     "regions": {
      "54dfbad0-198b-464c-8611-b7291fdd4cdf": {
       "attrs": {
        "height": 0.8,
        "width": 0.8,
        "x": 0.1,
        "y": 0.1
       },
       "content": {
        "cell": "03185446-9b44-4c97-bbca-3a5c399e1f41",
        "part": "whole"
       },
       "id": "54dfbad0-198b-464c-8611-b7291fdd4cdf"
      }
     }
    },
    "9ffd8836-64ca-49e5-8359-4d1ee6ecadc3": {
     "id": "9ffd8836-64ca-49e5-8359-4d1ee6ecadc3",
     "prev": "7f0587a4-0f5c-48d2-bf7d-d3703d548040",
     "regions": {
      "2d1ec338-ac53-4974-a486-a18bb545089c": {
       "attrs": {
        "height": 0.8,
        "width": 0.8,
        "x": 0.1,
        "y": 0.1
       },
       "content": {
        "cell": "1903083c-beaf-41b6-8cf5-e3da244c6c71",
        "part": "whole"
       },
       "id": "2d1ec338-ac53-4974-a486-a18bb545089c"
      }
     }
    },
    "a121d98f-546e-49a5-b783-ed39e9a771d5": {
     "id": "a121d98f-546e-49a5-b783-ed39e9a771d5",
     "prev": "b67227b8-c4e2-41a1-95e6-8dbf3835b47e",
     "regions": {
      "7d74e3c2-69ff-44c0-8a7f-4597b7165ec1": {
       "attrs": {
        "height": 0.8,
        "width": 0.8,
        "x": 0.1,
        "y": 0.1
       },
       "content": {
        "cell": "d8400ca4-52d0-43be-9bd4-6ee76a5e3f9c",
        "part": "whole"
       },
       "id": "7d74e3c2-69ff-44c0-8a7f-4597b7165ec1"
      }
     }
    },
    "a2825863-1926-498a-8e71-6946ad36fca2": {
     "id": "a2825863-1926-498a-8e71-6946ad36fca2",
     "prev": "96d52bd7-99c2-453d-a4b3-c9c5e685fbb6",
     "regions": {
      "dedb8948-514d-4a26-9420-7e87553d6dd8": {
       "attrs": {
        "height": 0.8,
        "width": 0.8,
        "x": 0.1,
        "y": 0.1
       },
       "content": {
        "cell": "d58ef3c4-fde4-4279-9759-5dd46c071d6d",
        "part": "whole"
       },
       "id": "dedb8948-514d-4a26-9420-7e87553d6dd8"
      }
     }
    },
    "a2f63e4d-260e-42f6-8b26-df411810c2f4": {
     "id": "a2f63e4d-260e-42f6-8b26-df411810c2f4",
     "prev": "4ed4e6f5-0d7a-4fae-882a-34c20cfac305",
     "regions": {
      "617fbd4e-042d-4402-a556-81c1c112ed39": {
       "attrs": {
        "height": 0.8,
        "width": 0.8,
        "x": 0.1,
        "y": 0.1
       },
       "content": {
        "cell": "9726f904-2fdb-48d1-8d16-10dc6ca0e428",
        "part": "whole"
       },
       "id": "617fbd4e-042d-4402-a556-81c1c112ed39"
      }
     }
    },
    "a366cdc4-9308-4337-8c84-34c24ff54f70": {
     "id": "a366cdc4-9308-4337-8c84-34c24ff54f70",
     "prev": "cc8ee59d-74de-444b-99ff-d17df39ea5a4",
     "regions": {
      "d2abc056-ed7d-459d-8dae-ab6be4cdf5af": {
       "attrs": {
        "height": 0.8,
        "width": 0.8,
        "x": 0.1,
        "y": 0.1
       },
       "content": {
        "cell": "a949812c-05fa-40e2-9d99-ce5b3a665b9e",
        "part": "whole"
       },
       "id": "d2abc056-ed7d-459d-8dae-ab6be4cdf5af"
      }
     }
    },
    "a43ca214-d532-4343-96b9-a7bc5db8cf11": {
     "id": "a43ca214-d532-4343-96b9-a7bc5db8cf11",
     "prev": "8a67997b-9ee1-4809-9fe3-1f4f337bc796",
     "regions": {
      "f5e2e225-9741-4e39-8686-a2a847a88b7f": {
       "attrs": {
        "height": 0.8,
        "width": 0.8,
        "x": 0.1,
        "y": 0.1
       },
       "content": {
        "cell": "69474595-df20-4029-a11d-edfdb7b8e0bf",
        "part": "whole"
       },
       "id": "f5e2e225-9741-4e39-8686-a2a847a88b7f"
      }
     }
    },
    "a5a7c868-750c-4c9d-8863-070645726234": {
     "id": "a5a7c868-750c-4c9d-8863-070645726234",
     "prev": "9ffd8836-64ca-49e5-8359-4d1ee6ecadc3",
     "regions": {
      "e72727d9-e47f-4572-af82-0b35aa37a428": {
       "attrs": {
        "height": 0.8,
        "width": 0.8,
        "x": 0.1,
        "y": 0.1
       },
       "content": {
        "cell": "fe3dcb00-efe0-4a30-8ef9-cba9d2eb9af3",
        "part": "whole"
       },
       "id": "e72727d9-e47f-4572-af82-0b35aa37a428"
      }
     }
    },
    "a66d8ad7-9399-469b-9c63-857663d139eb": {
     "id": "a66d8ad7-9399-469b-9c63-857663d139eb",
     "prev": "04bd5af7-c21c-4bb9-9cb6-3b48ff27dc50",
     "regions": {
      "cad26d5d-7ebe-46d6-b108-0681cc52ef8a": {
       "attrs": {
        "height": 0.8,
        "width": 0.8,
        "x": 0.1,
        "y": 0.1
       },
       "content": {
        "cell": "8a387a43-da1a-4a4b-8eb4-53c548e764d9",
        "part": "whole"
       },
       "id": "cad26d5d-7ebe-46d6-b108-0681cc52ef8a"
      }
     }
    },
    "a7e5961e-5abd-47a6-b73b-1a55c4e1d2ee": {
     "id": "a7e5961e-5abd-47a6-b73b-1a55c4e1d2ee",
     "prev": "38f25588-0aa8-41d1-8ccf-afa9785b2ee3",
     "regions": {
      "13408281-f5aa-4f3f-b70f-920a029eb286": {
       "attrs": {
        "height": 0.8,
        "width": 0.8,
        "x": 0.1,
        "y": 0.1
       },
       "content": {
        "cell": "bc2112ef-c890-4f52-b986-5b3668327a25",
        "part": "whole"
       },
       "id": "13408281-f5aa-4f3f-b70f-920a029eb286"
      }
     }
    },
    "a9029878-7cc8-414c-b318-8012fc42fdc1": {
     "id": "a9029878-7cc8-414c-b318-8012fc42fdc1",
     "prev": "fdac0019-a462-4494-bd32-bd56c9ea5a54",
     "regions": {
      "ed5a8c53-9e97-4b5c-a227-13be9c9e33fb": {
       "attrs": {
        "height": 0.8,
        "width": 0.8,
        "x": 0.1,
        "y": 0.1
       },
       "content": {
        "cell": "8afd294e-abdc-4d4f-b242-6b7b2f9bb2f9",
        "part": "whole"
       },
       "id": "ed5a8c53-9e97-4b5c-a227-13be9c9e33fb"
      }
     }
    },
    "a98974e5-b5ea-49f0-95a3-a6cd16f1259f": {
     "id": "a98974e5-b5ea-49f0-95a3-a6cd16f1259f",
     "prev": "e4c74960-ddb2-451a-ab2e-18be0b460933",
     "regions": {
      "66779740-6ede-4c44-a72b-2c4616c95bf0": {
       "attrs": {
        "height": 0.8,
        "width": 0.8,
        "x": 0.1,
        "y": 0.1
       },
       "content": {
        "cell": "c78060e8-d2b6-4adb-a0c9-cb002c890ecc",
        "part": "whole"
       },
       "id": "66779740-6ede-4c44-a72b-2c4616c95bf0"
      }
     }
    },
    "aa01f99b-1f36-47ef-bfe0-bb2767af8a95": {
     "id": "aa01f99b-1f36-47ef-bfe0-bb2767af8a95",
     "prev": "7370cda1-042b-445a-94c2-54a0f4dc928d",
     "regions": {
      "debc8c56-ca98-4005-a46d-bd3d10eef841": {
       "attrs": {
        "height": 0.8,
        "width": 0.8,
        "x": 0.1,
        "y": 0.1
       },
       "content": {
        "cell": "3cde6c35-6ac4-424f-ba3f-4483a21016c7",
        "part": "whole"
       },
       "id": "debc8c56-ca98-4005-a46d-bd3d10eef841"
      }
     }
    },
    "ab3b44aa-be0c-4ddb-8b99-b34b32902ef5": {
     "id": "ab3b44aa-be0c-4ddb-8b99-b34b32902ef5",
     "prev": "d4762a65-9c57-44c2-bdfd-ac9d52669207",
     "regions": {
      "a5e58bbd-cb6a-421a-a783-fccd2d677581": {
       "attrs": {
        "height": 0.8,
        "width": 0.8,
        "x": 0.1,
        "y": 0.1
       },
       "content": {
        "cell": "d9b9438d-9f53-4567-bec6-3e7643d41001",
        "part": "whole"
       },
       "id": "a5e58bbd-cb6a-421a-a783-fccd2d677581"
      }
     }
    },
    "ababb51b-7e39-49d7-93a0-fb7e07f8bd60": {
     "id": "ababb51b-7e39-49d7-93a0-fb7e07f8bd60",
     "prev": "2be5fccc-864e-4ee6-a441-aa68f0306681",
     "regions": {
      "0e883362-79d4-401f-a594-d35197a8c3ca": {
       "attrs": {
        "height": 0.8,
        "width": 0.8,
        "x": 0.1,
        "y": 0.1
       },
       "content": {
        "cell": "4116414e-992d-4e16-a411-d9790027c8e2",
        "part": "whole"
       },
       "id": "0e883362-79d4-401f-a594-d35197a8c3ca"
      }
     }
    },
    "ad9ecb00-7232-46f6-b8b1-4bdcd2ebbc20": {
     "id": "ad9ecb00-7232-46f6-b8b1-4bdcd2ebbc20",
     "prev": "24edd498-f7db-46df-956c-89d8fe16511e",
     "regions": {
      "caa8b253-0460-4637-8d05-105006fc21bc": {
       "attrs": {
        "height": 0.8,
        "width": 0.8,
        "x": 0.1,
        "y": 0.1
       },
       "content": {
        "cell": "eb76463a-549c-467b-b0d5-1d23efa9462e",
        "part": "whole"
       },
       "id": "caa8b253-0460-4637-8d05-105006fc21bc"
      }
     }
    },
    "ae4e47c0-6eeb-4d4a-b97c-2ace4873fefa": {
     "id": "ae4e47c0-6eeb-4d4a-b97c-2ace4873fefa",
     "prev": "1ce5df29-b5d8-47aa-87ec-385ce63b9774",
     "regions": {
      "57a895e7-e143-4684-ba25-0367604cd635": {
       "attrs": {
        "height": 0.8,
        "width": 0.8,
        "x": 0.1,
        "y": 0.1
       },
       "content": {
        "cell": "2710ac99-44df-4859-bdf7-8c6c02b24720",
        "part": "whole"
       },
       "id": "57a895e7-e143-4684-ba25-0367604cd635"
      }
     }
    },
    "b369e2e0-a070-49c3-a61f-560dbd536c51": {
     "id": "b369e2e0-a070-49c3-a61f-560dbd536c51",
     "prev": "3594644e-36ad-452f-888b-b6e924da46ad",
     "regions": {
      "a00cf132-be24-4963-9ca6-a3fdb29e722e": {
       "attrs": {
        "height": 0.8,
        "width": 0.8,
        "x": 0.1,
        "y": 0.1
       },
       "content": {
        "cell": "d8a66a75-716c-45a9-a245-d6d443781768",
        "part": "whole"
       },
       "id": "a00cf132-be24-4963-9ca6-a3fdb29e722e"
      }
     }
    },
    "b3c24d30-90a4-4bd9-a830-9810f97815a1": {
     "id": "b3c24d30-90a4-4bd9-a830-9810f97815a1",
     "prev": "0dc17e32-5bff-4168-952d-85b5312427c0",
     "regions": {
      "cd1af8a9-a8f1-401f-9a67-a045ad8330d8": {
       "attrs": {
        "height": 0.8,
        "width": 0.8,
        "x": 0.1,
        "y": 0.1
       },
       "content": {
        "cell": "1f5fef08-2e6b-4e19-9c8c-d722ab5a0b4a",
        "part": "whole"
       },
       "id": "cd1af8a9-a8f1-401f-9a67-a045ad8330d8"
      }
     }
    },
    "b3e83f38-37ac-4a92-97fc-87787083ce6d": {
     "id": "b3e83f38-37ac-4a92-97fc-87787083ce6d",
     "prev": "59fe3d9a-f675-4ccb-9464-4db70fe35ace",
     "regions": {
      "0ecf656a-906b-48bd-b99a-c804f2759cb7": {
       "attrs": {
        "height": 0.8,
        "width": 0.8,
        "x": 0.1,
        "y": 0.1
       },
       "content": {
        "cell": "2cd7e921-248e-4880-8b09-c5cd3446fc05",
        "part": "whole"
       },
       "id": "0ecf656a-906b-48bd-b99a-c804f2759cb7"
      }
     }
    },
    "b4b7cc31-f34b-4fd8-85f0-eb04abbcbc0b": {
     "id": "b4b7cc31-f34b-4fd8-85f0-eb04abbcbc0b",
     "prev": "fd360c03-1c8f-43c5-96de-6f2aeceb5483",
     "regions": {
      "8a88a0fb-6760-432f-b3fb-7d2d9de5d592": {
       "attrs": {
        "height": 0.8,
        "width": 0.8,
        "x": 0.1,
        "y": 0.1
       },
       "content": {
        "cell": "0730d42d-9320-4b8d-811b-355504476c3a",
        "part": "whole"
       },
       "id": "8a88a0fb-6760-432f-b3fb-7d2d9de5d592"
      }
     }
    },
    "b4c85fe3-54f8-4cbc-b784-3baca59a3241": {
     "id": "b4c85fe3-54f8-4cbc-b784-3baca59a3241",
     "prev": "e7c2bddc-e583-45a9-a56a-a13e8430c1f4",
     "regions": {
      "317495e4-1fd9-4e18-b03d-75f882c5d111": {
       "attrs": {
        "height": 0.8,
        "width": 0.8,
        "x": 0.1,
        "y": 0.1
       },
       "content": {
        "cell": "bd8acd1b-4825-4105-a052-2d4e50d2870c",
        "part": "whole"
       },
       "id": "317495e4-1fd9-4e18-b03d-75f882c5d111"
      }
     }
    },
    "b56cf087-530b-4a53-b11d-e24bb21c3af8": {
     "id": "b56cf087-530b-4a53-b11d-e24bb21c3af8",
     "prev": "4a1e5b47-14e6-4627-84ca-d58c47b2415c",
     "regions": {
      "94afcd09-9483-4b2a-8416-142c2573004a": {
       "attrs": {
        "height": 0.8,
        "width": 0.8,
        "x": 0.1,
        "y": 0.1
       },
       "content": {
        "cell": "8fd25980-babd-420f-9050-203f28a6deb0",
        "part": "whole"
       },
       "id": "94afcd09-9483-4b2a-8416-142c2573004a"
      }
     }
    },
    "b67227b8-c4e2-41a1-95e6-8dbf3835b47e": {
     "id": "b67227b8-c4e2-41a1-95e6-8dbf3835b47e",
     "prev": "00e37b5b-a1e7-4bee-be07-434f36bd9da0",
     "regions": {
      "42633ad2-b5a2-433f-b0be-abad227fb215": {
       "attrs": {
        "height": 0.8,
        "width": 0.8,
        "x": 0.1,
        "y": 0.1
       },
       "content": {
        "cell": "d5068ecd-151b-4b9a-bca9-67229ac2a3b4",
        "part": "whole"
       },
       "id": "42633ad2-b5a2-433f-b0be-abad227fb215"
      }
     }
    },
    "b79e2c78-2532-425f-82e6-a5a2266bfb8d": {
     "id": "b79e2c78-2532-425f-82e6-a5a2266bfb8d",
     "prev": "15d9783d-6178-4346-9b88-9c3478de1aaa",
     "regions": {
      "ce670d45-c3c8-42c5-8341-40bd8f4ee894": {
       "attrs": {
        "height": 0.8,
        "width": 0.8,
        "x": 0.1,
        "y": 0.1
       },
       "content": {
        "cell": "b8bcbac2-1c87-4076-bf43-34016781cfc7",
        "part": "whole"
       },
       "id": "ce670d45-c3c8-42c5-8341-40bd8f4ee894"
      }
     }
    },
    "ba68546b-239b-4c10-b009-a0f1ba692043": {
     "id": "ba68546b-239b-4c10-b009-a0f1ba692043",
     "prev": "d5a8b26c-bf96-4875-8536-cd47641a274f",
     "regions": {
      "e3fc1116-fbfa-4e6b-a9ac-3c6ab05c9646": {
       "attrs": {
        "height": 0.8,
        "width": 0.8,
        "x": 0.1,
        "y": 0.1
       },
       "content": {
        "cell": "2aa95a29-0633-49b8-b92e-1d62ab7d0289",
        "part": "whole"
       },
       "id": "e3fc1116-fbfa-4e6b-a9ac-3c6ab05c9646"
      }
     }
    },
    "bba8ff09-cbbb-4e8a-a3ae-6cdc33e6af82": {
     "id": "bba8ff09-cbbb-4e8a-a3ae-6cdc33e6af82",
     "prev": "ce902bac-8f3a-4a18-a2ed-6266b463ac36",
     "regions": {
      "4353313b-42aa-4006-b4ec-8fbad2f3d84a": {
       "attrs": {
        "height": 0.8,
        "width": 0.8,
        "x": 0.1,
        "y": 0.1
       },
       "content": {
        "cell": "28ae5811-e106-4a6d-a817-c4613af3ca03",
        "part": "whole"
       },
       "id": "4353313b-42aa-4006-b4ec-8fbad2f3d84a"
      }
     }
    },
    "be3de1a4-62dc-4d4c-b06b-fffdc8ba20f6": {
     "id": "be3de1a4-62dc-4d4c-b06b-fffdc8ba20f6",
     "prev": "d52ae342-d583-453e-9e37-902fc3cbcd9b",
     "regions": {
      "50ee894f-5cf3-4b5f-a2a0-253352c5256d": {
       "attrs": {
        "height": 0.8,
        "width": 0.8,
        "x": 0.1,
        "y": 0.1
       },
       "content": {
        "cell": "77844b2b-4f87-44dd-91e4-17dbae0a5fe7",
        "part": "whole"
       },
       "id": "50ee894f-5cf3-4b5f-a2a0-253352c5256d"
      }
     }
    },
    "c1372adb-9a5f-4de6-bea1-4c2e6d3f1cbd": {
     "id": "c1372adb-9a5f-4de6-bea1-4c2e6d3f1cbd",
     "prev": "322037bb-8539-4cc5-9f69-d07287216c80",
     "regions": {
      "92aa92d8-a380-477a-ac43-866cb7227a46": {
       "attrs": {
        "height": 0.8,
        "width": 0.8,
        "x": 0.1,
        "y": 0.1
       },
       "content": {
        "cell": "7aff875b-9ea4-4e34-9272-4876f45c1b74",
        "part": "whole"
       },
       "id": "92aa92d8-a380-477a-ac43-866cb7227a46"
      }
     }
    },
    "c3a40fea-5833-46ff-b10e-c1861b7fb36a": {
     "id": "c3a40fea-5833-46ff-b10e-c1861b7fb36a",
     "prev": "ecfceb4e-4c2f-4555-8cfa-4bb2489786d8",
     "regions": {
      "746a1011-4209-435c-9673-2a96dbf43113": {
       "attrs": {
        "height": 0.8,
        "width": 0.8,
        "x": 0.1,
        "y": 0.1
       },
       "content": {
        "cell": "80a1a79d-e078-42af-9c37-30d34e6c7140",
        "part": "whole"
       },
       "id": "746a1011-4209-435c-9673-2a96dbf43113"
      }
     }
    },
    "c4af918c-9840-4e29-885b-e4dbad6b2843": {
     "id": "c4af918c-9840-4e29-885b-e4dbad6b2843",
     "prev": "2cc31ca9-4d0c-4cfd-83c6-3bb63d485ee0",
     "regions": {
      "83f788a7-752f-4b98-8cc8-6555abc8fea6": {
       "attrs": {
        "height": 0.8,
        "width": 0.8,
        "x": 0.1,
        "y": 0.1
       },
       "content": {
        "cell": "0fc8f52d-7967-4170-a966-1111935cd2ba",
        "part": "whole"
       },
       "id": "83f788a7-752f-4b98-8cc8-6555abc8fea6"
      }
     }
    },
    "c5113fe5-4f38-49cc-8702-8939b24de7a1": {
     "id": "c5113fe5-4f38-49cc-8702-8939b24de7a1",
     "prev": "a66d8ad7-9399-469b-9c63-857663d139eb",
     "regions": {
      "9cf23597-f7ee-417f-a82c-61a165c46b7b": {
       "attrs": {
        "height": 0.8,
        "width": 0.8,
        "x": 0.1,
        "y": 0.1
       },
       "content": {
        "cell": "5d1ae9eb-cf51-4ef4-b370-eb7ab8a86c4f",
        "part": "whole"
       },
       "id": "9cf23597-f7ee-417f-a82c-61a165c46b7b"
      }
     }
    },
    "c763af73-29a3-4652-89df-10be17368733": {
     "id": "c763af73-29a3-4652-89df-10be17368733",
     "prev": "dc91147a-7c46-4677-831a-bbda70396013",
     "regions": {
      "cae94c56-ba9e-416e-b0e5-16cdc8e76c10": {
       "attrs": {
        "height": 0.8,
        "width": 0.8,
        "x": 0.1,
        "y": 0.1
       },
       "content": {
        "cell": "8fbd4fb5-4cb5-47e1-aa70-00e4c1203ead",
        "part": "whole"
       },
       "id": "cae94c56-ba9e-416e-b0e5-16cdc8e76c10"
      }
     }
    },
    "c7765da1-21a9-4ae8-a267-ea4ffcfd6da1": {
     "id": "c7765da1-21a9-4ae8-a267-ea4ffcfd6da1",
     "prev": "513f1d4a-cc98-4726-a457-db40d8b724a5",
     "regions": {
      "2352c54c-02da-4a96-a301-1b7fee8f2589": {
       "attrs": {
        "height": 0.8,
        "width": 0.8,
        "x": 0.1,
        "y": 0.1
       },
       "content": {
        "cell": "9e5db606-f8e6-48af-a379-17c7e07647f4",
        "part": "whole"
       },
       "id": "2352c54c-02da-4a96-a301-1b7fee8f2589"
      }
     }
    },
    "ca1fa132-b71c-445a-9dbf-ed6c8aa7b8c3": {
     "id": "ca1fa132-b71c-445a-9dbf-ed6c8aa7b8c3",
     "prev": "585712f1-df10-473a-8183-2dd0bd26c7fd",
     "regions": {
      "06e113e2-e734-4ec7-9e9e-3584f612c2d0": {
       "attrs": {
        "height": 0.8,
        "width": 0.8,
        "x": 0.1,
        "y": 0.1
       },
       "content": {
        "cell": "b10ef181-2ac6-471b-b930-78bc81543e65",
        "part": "whole"
       },
       "id": "06e113e2-e734-4ec7-9e9e-3584f612c2d0"
      }
     }
    },
    "cc8ee59d-74de-444b-99ff-d17df39ea5a4": {
     "id": "cc8ee59d-74de-444b-99ff-d17df39ea5a4",
     "prev": "33c4fe79-4ac1-4083-9db3-0e76549a9772",
     "regions": {
      "608f07f1-b759-4e42-82c1-e149293ca4a3": {
       "attrs": {
        "height": 0.8,
        "width": 0.8,
        "x": 0.1,
        "y": 0.1
       },
       "content": {
        "cell": "766d8692-8a01-4da9-a3a0-d7e6525852a2",
        "part": "whole"
       },
       "id": "608f07f1-b759-4e42-82c1-e149293ca4a3"
      }
     }
    },
    "ce8ac428-9ac4-49ba-8b05-da588b72a2a7": {
     "id": "ce8ac428-9ac4-49ba-8b05-da588b72a2a7",
     "prev": "948f8462-efbe-45d7-98e3-cd1f5e8e3b3b",
     "regions": {
      "7d1d137d-de2c-4688-8e3b-e3e8305e538e": {
       "attrs": {
        "height": 0.8,
        "width": 0.8,
        "x": 0.1,
        "y": 0.1
       },
       "content": {
        "cell": "cd37c48a-e40e-4295-b306-bd65c187b918",
        "part": "whole"
       },
       "id": "7d1d137d-de2c-4688-8e3b-e3e8305e538e"
      }
     }
    },
    "ce902bac-8f3a-4a18-a2ed-6266b463ac36": {
     "id": "ce902bac-8f3a-4a18-a2ed-6266b463ac36",
     "prev": "31416dc8-9ee1-4c30-91bc-d43e7cf2aa9e",
     "regions": {
      "048c9014-0618-4855-bad5-cf6954701ea8": {
       "attrs": {
        "height": 0.8,
        "width": 0.8,
        "x": 0.1,
        "y": 0.1
       },
       "content": {
        "cell": "4b9a8590-532c-4dd9-a62b-4ff1e9b35910",
        "part": "whole"
       },
       "id": "048c9014-0618-4855-bad5-cf6954701ea8"
      }
     }
    },
    "ce95334a-4f1f-4335-a52c-8b43011d38c8": {
     "id": "ce95334a-4f1f-4335-a52c-8b43011d38c8",
     "prev": "f8d29c8b-adf3-4dee-b5ef-cb357799e964",
     "regions": {
      "d202a395-9406-4d68-91e5-be7d02b77637": {
       "attrs": {
        "height": 0.8,
        "width": 0.8,
        "x": 0.1,
        "y": 0.1
       },
       "content": {
        "cell": "938c5ee1-7df6-42f5-a2c8-767d1fb3580f",
        "part": "whole"
       },
       "id": "d202a395-9406-4d68-91e5-be7d02b77637"
      }
     }
    },
    "cfbaf417-42ea-4e89-9844-ab2caf884677": {
     "id": "cfbaf417-42ea-4e89-9844-ab2caf884677",
     "prev": "61eee5ac-1971-4b13-a834-2a2204af1094",
     "regions": {
      "9d876017-1058-4362-80c4-22af242775a5": {
       "attrs": {
        "height": 0.8,
        "width": 0.8,
        "x": 0.1,
        "y": 0.1
       },
       "content": {
        "cell": "429554d7-e19e-4f67-b9f9-ed1d30bfe95e",
        "part": "whole"
       },
       "id": "9d876017-1058-4362-80c4-22af242775a5"
      }
     }
    },
    "d07b5bc3-ba9e-4f73-a682-4ba403fe954f": {
     "id": "d07b5bc3-ba9e-4f73-a682-4ba403fe954f",
     "prev": "684d4a3a-4f9e-40b0-944b-4f13f5c02644",
     "regions": {
      "bb7abae7-33be-4e9c-a6a5-d91d36347eab": {
       "attrs": {
        "height": 0.8,
        "width": 0.8,
        "x": 0.1,
        "y": 0.1
       },
       "content": {
        "cell": "dcc18e12-baff-434c-8cfb-f4e4ee4865fc",
        "part": "whole"
       },
       "id": "bb7abae7-33be-4e9c-a6a5-d91d36347eab"
      }
     }
    },
    "d378bf43-4e50-48bf-9fb4-c6c58b0465ad": {
     "id": "d378bf43-4e50-48bf-9fb4-c6c58b0465ad",
     "prev": "e836044b-b736-4521-b781-22bd57ce20cb",
     "regions": {
      "e9d4c47f-06f3-4659-94ce-9c653a8bbc73": {
       "attrs": {
        "height": 0.8,
        "width": 0.8,
        "x": 0.1,
        "y": 0.1
       },
       "content": {
        "cell": "9b6ceee6-18f2-40d8-a214-e8469ee9d578",
        "part": "whole"
       },
       "id": "e9d4c47f-06f3-4659-94ce-9c653a8bbc73"
      }
     }
    },
    "d4762a65-9c57-44c2-bdfd-ac9d52669207": {
     "id": "d4762a65-9c57-44c2-bdfd-ac9d52669207",
     "prev": "ce8ac428-9ac4-49ba-8b05-da588b72a2a7",
     "regions": {
      "5617b82a-4681-410d-8a78-515a950c4696": {
       "attrs": {
        "height": 0.8,
        "width": 0.8,
        "x": 0.1,
        "y": 0.1
       },
       "content": {
        "cell": "f08f6576-d10f-4e89-bc0d-ec08c5acb069",
        "part": "whole"
       },
       "id": "5617b82a-4681-410d-8a78-515a950c4696"
      }
     }
    },
    "d52ae342-d583-453e-9e37-902fc3cbcd9b": {
     "id": "d52ae342-d583-453e-9e37-902fc3cbcd9b",
     "prev": "174124bd-1105-4a3c-8ad1-b4e4571bf73c",
     "regions": {
      "5aa0cd22-923b-4d52-88bb-3d9f21ccef9a": {
       "attrs": {
        "height": 0.8,
        "width": 0.8,
        "x": 0.1,
        "y": 0.1
       },
       "content": {
        "cell": "753e770a-9a22-4456-844f-93b9f1b10527",
        "part": "whole"
       },
       "id": "5aa0cd22-923b-4d52-88bb-3d9f21ccef9a"
      }
     }
    },
    "d5a8b26c-bf96-4875-8536-cd47641a274f": {
     "id": "d5a8b26c-bf96-4875-8536-cd47641a274f",
     "prev": "be3de1a4-62dc-4d4c-b06b-fffdc8ba20f6",
     "regions": {
      "7823e90c-21ca-4e25-8cf8-f16e8ebb6539": {
       "attrs": {
        "height": 0.8,
        "width": 0.8,
        "x": 0.1,
        "y": 0.1
       },
       "content": {
        "cell": "75fcc208-5db2-400b-916b-6a5cc6f689d9",
        "part": "whole"
       },
       "id": "7823e90c-21ca-4e25-8cf8-f16e8ebb6539"
      }
     }
    },
    "d9a18811-8cea-4d56-a6b5-9b2d23d9c216": {
     "id": "d9a18811-8cea-4d56-a6b5-9b2d23d9c216",
     "prev": "6793801a-8b61-4bf6-ade0-2231f600362e",
     "regions": {
      "1dabb232-5437-4211-ab65-15ed967a154c": {
       "attrs": {
        "height": 0.8,
        "width": 0.8,
        "x": 0.1,
        "y": 0.1
       },
       "content": {
        "cell": "c08e69c2-db2c-4859-9989-e558d7eccd91",
        "part": "whole"
       },
       "id": "1dabb232-5437-4211-ab65-15ed967a154c"
      }
     }
    },
    "da5e412a-797b-476e-b1a1-24080b5936c4": {
     "id": "da5e412a-797b-476e-b1a1-24080b5936c4",
     "prev": "dcc63e40-e6c8-49b1-9f10-c03e7f6caa95",
     "regions": {
      "e759f517-3035-4999-81a2-b094d27ce646": {
       "attrs": {
        "height": 0.8,
        "width": 0.8,
        "x": 0.1,
        "y": 0.1
       },
       "content": {
        "cell": "d8fb5254-5792-48de-a974-1e4964a62608",
        "part": "whole"
       },
       "id": "e759f517-3035-4999-81a2-b094d27ce646"
      }
     }
    },
    "dab629b8-1757-4824-8076-8434a25138a2": {
     "id": "dab629b8-1757-4824-8076-8434a25138a2",
     "prev": "04fe36e0-b261-4816-b94e-ca4883bc240d",
     "regions": {
      "e59d4513-b704-4476-b3fc-b7427229b543": {
       "attrs": {
        "height": 0.8,
        "width": 0.8,
        "x": 0.1,
        "y": 0.1
       },
       "content": {
        "cell": "efe1cfaf-22c7-4aac-8991-e4692aed0f76",
        "part": "whole"
       },
       "id": "e59d4513-b704-4476-b3fc-b7427229b543"
      }
     }
    },
    "dc289ec4-97ff-4269-a43c-4f181e21b645": {
     "id": "dc289ec4-97ff-4269-a43c-4f181e21b645",
     "prev": "8fe8a479-01e7-4cea-bceb-9058d4fa5ebe",
     "regions": {
      "3269e846-56cf-4808-b309-37b10d65f66f": {
       "attrs": {
        "height": 0.8,
        "width": 0.8,
        "x": 0.1,
        "y": 0.1
       },
       "content": {
        "cell": "bac92a4b-eddb-41cf-a357-f5ba0017adf5",
        "part": "whole"
       },
       "id": "3269e846-56cf-4808-b309-37b10d65f66f"
      }
     }
    },
    "dc91147a-7c46-4677-831a-bbda70396013": {
     "id": "dc91147a-7c46-4677-831a-bbda70396013",
     "prev": "5543bbfe-b4fc-4087-ab65-1fed5f6a50fd",
     "regions": {
      "dc0d9db1-57e6-4684-9573-101f184c1920": {
       "attrs": {
        "height": 0.8,
        "width": 0.8,
        "x": 0.1,
        "y": 0.1
       },
       "content": {
        "cell": "3c0c2101-a6f5-4a85-9af0-d63b4890e6f9",
        "part": "whole"
       },
       "id": "dc0d9db1-57e6-4684-9573-101f184c1920"
      }
     }
    },
    "dcc63e40-e6c8-49b1-9f10-c03e7f6caa95": {
     "id": "dcc63e40-e6c8-49b1-9f10-c03e7f6caa95",
     "prev": "ef1c3685-0372-4f05-9943-382210fac19c",
     "regions": {
      "8474437d-e65c-4649-b7b9-f1387459c731": {
       "attrs": {
        "height": 0.8,
        "width": 0.8,
        "x": 0.1,
        "y": 0.1
       },
       "content": {
        "cell": "e19488e4-63a9-4faa-8ff0-b116db6bd7cd",
        "part": "whole"
       },
       "id": "8474437d-e65c-4649-b7b9-f1387459c731"
      }
     }
    },
    "dcf58f86-18ef-4c3b-a668-d941fe2d163f": {
     "id": "dcf58f86-18ef-4c3b-a668-d941fe2d163f",
     "prev": "0ac3c69c-d2d7-4e86-bcae-18f9c91a23b7",
     "regions": {
      "1d387687-9362-4ad6-ac1c-74cc9bec5a15": {
       "attrs": {
        "height": 0.8,
        "width": 0.8,
        "x": 0.1,
        "y": 0.1
       },
       "content": {
        "cell": "0c9a9e4b-c71d-4540-9f0a-7de452b01c6c",
        "part": "whole"
       },
       "id": "1d387687-9362-4ad6-ac1c-74cc9bec5a15"
      }
     }
    },
    "dd93eaf1-8e9f-44ac-a05b-7cd8ba1a2967": {
     "id": "dd93eaf1-8e9f-44ac-a05b-7cd8ba1a2967",
     "prev": "cfbaf417-42ea-4e89-9844-ab2caf884677",
     "regions": {
      "55d1c9dc-d435-481e-9b5a-fe0921f0257e": {
       "attrs": {
        "height": 0.8,
        "width": 0.8,
        "x": 0.1,
        "y": 0.1
       },
       "content": {
        "cell": "c0aee486-02db-4655-b25e-ad783d9cef42",
        "part": "whole"
       },
       "id": "55d1c9dc-d435-481e-9b5a-fe0921f0257e"
      }
     }
    },
    "e02d2a79-5464-4c00-9edf-84516e5068f2": {
     "id": "e02d2a79-5464-4c00-9edf-84516e5068f2",
     "prev": "ababb51b-7e39-49d7-93a0-fb7e07f8bd60",
     "regions": {
      "c278bc88-0373-46de-a4e5-d626a41beba8": {
       "attrs": {
        "height": 0.8,
        "width": 0.8,
        "x": 0.1,
        "y": 0.1
       },
       "content": {
        "cell": "17a1f4bb-573f-4246-aa82-485f3851361d",
        "part": "whole"
       },
       "id": "c278bc88-0373-46de-a4e5-d626a41beba8"
      }
     }
    },
    "e38eed27-3f1d-46ad-be08-d5785d3c5032": {
     "id": "e38eed27-3f1d-46ad-be08-d5785d3c5032",
     "prev": "4548d3fb-cdfe-4caa-9c35-6983bc52faf0",
     "regions": {
      "f55fa832-aec8-484a-ac76-b5a475425a87": {
       "attrs": {
        "height": 0.8,
        "width": 0.8,
        "x": 0.1,
        "y": 0.1
       },
       "content": {
        "cell": "74c36ca7-53e3-43fa-8c9c-5463683f2aec",
        "part": "whole"
       },
       "id": "f55fa832-aec8-484a-ac76-b5a475425a87"
      }
     }
    },
    "e4c74960-ddb2-451a-ab2e-18be0b460933": {
     "id": "e4c74960-ddb2-451a-ab2e-18be0b460933",
     "prev": "60324647-5f3c-4db8-a0da-609b99f09f05",
     "regions": {
      "bb228fae-5dd9-4f91-8126-cc670553a659": {
       "attrs": {
        "height": 0.8,
        "width": 0.8,
        "x": 0.1,
        "y": 0.1
       },
       "content": {
        "cell": "06d877d7-9bae-4b2a-aa8a-fbe6d0df4de8",
        "part": "whole"
       },
       "id": "bb228fae-5dd9-4f91-8126-cc670553a659"
      }
     }
    },
    "e596fd61-e1e8-42c4-8b9b-34467e413d81": {
     "id": "e596fd61-e1e8-42c4-8b9b-34467e413d81",
     "prev": "4159bea6-d1ae-42d2-a00f-a49aaaeca809",
     "regions": {
      "61745279-fd53-471d-9f90-06dcfde4b2f8": {
       "attrs": {
        "height": 0.8,
        "width": 0.8,
        "x": 0.1,
        "y": 0.1
       },
       "content": {
        "cell": "7082f5ac-f15c-481c-8f31-511fdd64f71c",
        "part": "whole"
       },
       "id": "61745279-fd53-471d-9f90-06dcfde4b2f8"
      }
     }
    },
    "e5a06ece-0d96-4691-9a0c-4f66d4cebb36": {
     "id": "e5a06ece-0d96-4691-9a0c-4f66d4cebb36",
     "prev": "a98974e5-b5ea-49f0-95a3-a6cd16f1259f",
     "regions": {
      "adf49135-6456-4f60-830e-1dd0721bf0f6": {
       "attrs": {
        "height": 0.8,
        "width": 0.8,
        "x": 0.1,
        "y": 0.1
       },
       "content": {
        "cell": "6eeb8d08-e66a-4a90-9abe-393d5efbd643",
        "part": "whole"
       },
       "id": "adf49135-6456-4f60-830e-1dd0721bf0f6"
      }
     }
    },
    "e6609793-aae8-4314-bd73-c3f36bbd5ddd": {
     "id": "e6609793-aae8-4314-bd73-c3f36bbd5ddd",
     "prev": "69c20b06-9e85-423f-9e01-73dc314c6b3a",
     "regions": {
      "af6b2412-0b1a-4fb3-bf08-33fac9a612af": {
       "attrs": {
        "height": 0.8,
        "width": 0.8,
        "x": 0.1,
        "y": 0.1
       },
       "content": {
        "cell": "dd6beb0e-9233-4832-b3da-eeeb6965cf9c",
        "part": "whole"
       },
       "id": "af6b2412-0b1a-4fb3-bf08-33fac9a612af"
      }
     }
    },
    "e7c2bddc-e583-45a9-a56a-a13e8430c1f4": {
     "id": "e7c2bddc-e583-45a9-a56a-a13e8430c1f4",
     "prev": "63be6afc-f11d-4c47-9329-51e9b53de8de",
     "regions": {
      "ab9f743d-d706-4bb6-86cb-581b6c325976": {
       "attrs": {
        "height": 0.8,
        "width": 0.8,
        "x": 0.1,
        "y": 0.1
       },
       "content": {
        "cell": "493a1e1a-338e-4aa6-9a94-318d640ea2bf",
        "part": "whole"
       },
       "id": "ab9f743d-d706-4bb6-86cb-581b6c325976"
      }
     }
    },
    "e836044b-b736-4521-b781-22bd57ce20cb": {
     "id": "e836044b-b736-4521-b781-22bd57ce20cb",
     "prev": "307f31d3-143e-499a-9c56-84026a89e824",
     "regions": {
      "b1a949b8-4770-4db7-89ff-9775b11f0976": {
       "attrs": {
        "height": 0.8,
        "width": 0.8,
        "x": 0.1,
        "y": 0.1
       },
       "content": {
        "cell": "3e2a48a0-d16d-48b7-bf3c-31a97bf96cd4",
        "part": "whole"
       },
       "id": "b1a949b8-4770-4db7-89ff-9775b11f0976"
      }
     }
    },
    "ea833868-5711-48e8-8282-9d5ea97139a2": {
     "id": "ea833868-5711-48e8-8282-9d5ea97139a2",
     "prev": "c7765da1-21a9-4ae8-a267-ea4ffcfd6da1",
     "regions": {
      "917a44f6-71c2-4c97-b592-728903f65fcf": {
       "attrs": {
        "height": 0.8,
        "width": 0.8,
        "x": 0.1,
        "y": 0.1
       },
       "content": {
        "cell": "3d67c952-039b-4a83-bbd3-5de37b555b1e",
        "part": "whole"
       },
       "id": "917a44f6-71c2-4c97-b592-728903f65fcf"
      }
     }
    },
    "ecf57186-066d-4bcf-80f9-bce4b377f149": {
     "id": "ecf57186-066d-4bcf-80f9-bce4b377f149",
     "prev": "ae4e47c0-6eeb-4d4a-b97c-2ace4873fefa",
     "regions": {
      "77d30248-e391-4423-af29-f80e97e3badd": {
       "attrs": {
        "height": 0.8,
        "width": 0.8,
        "x": 0.1,
        "y": 0.1
       },
       "content": {
        "cell": "2add4395-126b-4a44-9312-83568b788158",
        "part": "whole"
       },
       "id": "77d30248-e391-4423-af29-f80e97e3badd"
      }
     }
    },
    "ecfceb4e-4c2f-4555-8cfa-4bb2489786d8": {
     "id": "ecfceb4e-4c2f-4555-8cfa-4bb2489786d8",
     "prev": "06150178-10ee-40cc-9c9f-82bf2e20fda7",
     "regions": {
      "634a0cdc-7be9-4281-b514-693b565e39b8": {
       "attrs": {
        "height": 0.8,
        "width": 0.8,
        "x": 0.1,
        "y": 0.1
       },
       "content": {
        "cell": "d810c1ce-44d5-4cd2-9bec-881b90503bb5",
        "part": "whole"
       },
       "id": "634a0cdc-7be9-4281-b514-693b565e39b8"
      }
     }
    },
    "ed4b2f4d-5c3d-4bb4-b5af-c00b9045157e": {
     "id": "ed4b2f4d-5c3d-4bb4-b5af-c00b9045157e",
     "prev": "f681d7e8-7b6e-474a-8d31-f31f2ebd7e46",
     "regions": {
      "dd41cdbb-a36d-4c4f-b255-36fe88ed8b4d": {
       "attrs": {
        "height": 0.8,
        "width": 0.8,
        "x": 0.1,
        "y": 0.1
       },
       "content": {
        "cell": "ad8df2af-9930-436b-8484-ed8489848f98",
        "part": "whole"
       },
       "id": "dd41cdbb-a36d-4c4f-b255-36fe88ed8b4d"
      }
     }
    },
    "ee3004c2-c5af-4792-8e2d-719054c82814": {
     "id": "ee3004c2-c5af-4792-8e2d-719054c82814",
     "prev": "83dc2612-0e31-4456-b0d3-9b3c8db0b69f",
     "regions": {
      "5a35dbe1-ccfb-4090-aaac-58ec17d0b285": {
       "attrs": {
        "height": 0.8,
        "width": 0.8,
        "x": 0.1,
        "y": 0.1
       },
       "content": {
        "cell": "1ff1f7e0-9ada-4d71-a441-883348328c31",
        "part": "whole"
       },
       "id": "5a35dbe1-ccfb-4090-aaac-58ec17d0b285"
      }
     }
    },
    "ef1c3685-0372-4f05-9943-382210fac19c": {
     "id": "ef1c3685-0372-4f05-9943-382210fac19c",
     "prev": "0734765e-ae75-4db8-b044-e94644662656",
     "regions": {
      "47abe9b9-3aa7-47d4-9686-5d7d86a0fc38": {
       "attrs": {
        "height": 0.8,
        "width": 0.8,
        "x": 0.1,
        "y": 0.1
       },
       "content": {
        "cell": "4173b517-70b4-4ab0-8b52-752487dccb07",
        "part": "whole"
       },
       "id": "47abe9b9-3aa7-47d4-9686-5d7d86a0fc38"
      }
     }
    },
    "f079b8bd-d746-4538-826a-358f4ef9cc59": {
     "id": "f079b8bd-d746-4538-826a-358f4ef9cc59",
     "prev": "b4c85fe3-54f8-4cbc-b784-3baca59a3241",
     "regions": {
      "32031cfd-cc9a-40df-91b5-bf2c06d7fbfb": {
       "attrs": {
        "height": 0.8,
        "width": 0.8,
        "x": 0.1,
        "y": 0.1
       },
       "content": {
        "cell": "6278ee51-ff0c-4b26-a1bb-8ef826c14c15",
        "part": "whole"
       },
       "id": "32031cfd-cc9a-40df-91b5-bf2c06d7fbfb"
      }
     }
    },
    "f1337b9f-2fa7-4576-8b47-05635063e350": {
     "id": "f1337b9f-2fa7-4576-8b47-05635063e350",
     "prev": "a5a7c868-750c-4c9d-8863-070645726234",
     "regions": {
      "4df10c98-81dc-459d-a43c-fd6de58e9979": {
       "attrs": {
        "height": 0.8,
        "width": 0.8,
        "x": 0.1,
        "y": 0.1
       },
       "content": {
        "cell": "99b843df-57e3-4023-a1e4-ab6ec8ea03fa",
        "part": "whole"
       },
       "id": "4df10c98-81dc-459d-a43c-fd6de58e9979"
      }
     }
    },
    "f3547e5a-e69a-4c49-b278-708697801f6d": {
     "id": "f3547e5a-e69a-4c49-b278-708697801f6d",
     "prev": "02de9759-2bd7-4a25-b5ce-d72e3746bdcb",
     "regions": {
      "ce07ea66-797d-4997-9995-e27aff8c651c": {
       "attrs": {
        "height": 0.8,
        "width": 0.8,
        "x": 0.1,
        "y": 0.1
       },
       "content": {
        "cell": "8d329434-3509-4ce3-af5a-8d11edb2ea9c",
        "part": "whole"
       },
       "id": "ce07ea66-797d-4997-9995-e27aff8c651c"
      }
     }
    },
    "f3ebe48a-8145-4650-90f5-9ac6f43c80c5": {
     "id": "f3ebe48a-8145-4650-90f5-9ac6f43c80c5",
     "prev": "1cbd7060-d623-413f-89d6-eec723700b1c",
     "regions": {
      "bfb51d6f-dc08-42de-8d5c-78ef3fe562dd": {
       "attrs": {
        "height": 0.8,
        "width": 0.8,
        "x": 0.1,
        "y": 0.1
       },
       "content": {
        "cell": "43888700-c0fb-4eda-924b-a4c72d007bb4",
        "part": "whole"
       },
       "id": "bfb51d6f-dc08-42de-8d5c-78ef3fe562dd"
      }
     }
    },
    "f463d37e-cfb2-43b6-9be7-f36fee1ece6c": {
     "id": "f463d37e-cfb2-43b6-9be7-f36fee1ece6c",
     "prev": "98d4dedf-dfed-4b82-b2e2-6e21d7d293c2",
     "regions": {
      "634c145e-f93b-4c1b-9588-b4064c70b836": {
       "attrs": {
        "height": 0.8,
        "width": 0.8,
        "x": 0.1,
        "y": 0.1
       },
       "content": {
        "cell": "3d7ccf09-8fdc-4916-91af-7ab941559e09",
        "part": "whole"
       },
       "id": "634c145e-f93b-4c1b-9588-b4064c70b836"
      }
     }
    },
    "f681d7e8-7b6e-474a-8d31-f31f2ebd7e46": {
     "id": "f681d7e8-7b6e-474a-8d31-f31f2ebd7e46",
     "prev": "3f747bda-f0ca-4dcd-8c62-074d20f4ba51",
     "regions": {
      "feb6df90-2b67-4025-8e5e-5f6c11d47dd5": {
       "attrs": {
        "height": 0.8,
        "width": 0.8,
        "x": 0.1,
        "y": 0.1
       },
       "content": {
        "cell": "ac17b1e4-6c59-45d1-95b7-3047db4faee9",
        "part": "whole"
       },
       "id": "feb6df90-2b67-4025-8e5e-5f6c11d47dd5"
      }
     }
    },
    "f70caf1a-dfd8-4261-b633-15ba5a9db2ca": {
     "id": "f70caf1a-dfd8-4261-b633-15ba5a9db2ca",
     "prev": "ecf57186-066d-4bcf-80f9-bce4b377f149",
     "regions": {
      "6b31037d-dbc1-4385-aca9-3ee73a8085ef": {
       "attrs": {
        "height": 0.8,
        "width": 0.8,
        "x": 0.1,
        "y": 0.1
       },
       "content": {
        "cell": "6e978cf3-8388-4a69-a308-59dbb07d7efe",
        "part": "whole"
       },
       "id": "6b31037d-dbc1-4385-aca9-3ee73a8085ef"
      }
     }
    },
    "f79348a1-f6ec-4991-914b-2294f1da1ae2": {
     "id": "f79348a1-f6ec-4991-914b-2294f1da1ae2",
     "prev": "b79e2c78-2532-425f-82e6-a5a2266bfb8d",
     "regions": {
      "764770c1-cb73-4b89-8ccf-0a17973ce4e8": {
       "attrs": {
        "height": 0.8,
        "width": 0.8,
        "x": 0.1,
        "y": 0.1
       },
       "content": {
        "cell": "8960e3e8-85ac-439a-a798-aa3bc627e2b2",
        "part": "whole"
       },
       "id": "764770c1-cb73-4b89-8ccf-0a17973ce4e8"
      }
     }
    },
    "f8738e69-13a6-4016-b439-0e45754177aa": {
     "id": "f8738e69-13a6-4016-b439-0e45754177aa",
     "prev": "1f922a07-1760-4679-a667-0caf3f9ba3a2",
     "regions": {
      "87b86d93-7b64-4057-8867-887b8e070842": {
       "attrs": {
        "height": 0.8,
        "width": 0.8,
        "x": 0.1,
        "y": 0.1
       },
       "content": {
        "cell": "2f1f5f5d-30ba-48cd-9554-20b6f64ba10f",
        "part": "whole"
       },
       "id": "87b86d93-7b64-4057-8867-887b8e070842"
      }
     }
    },
    "f8d29c8b-adf3-4dee-b5ef-cb357799e964": {
     "id": "f8d29c8b-adf3-4dee-b5ef-cb357799e964",
     "prev": "23637e9d-60cf-461a-8f18-7b649d5955e5",
     "regions": {
      "c6f3c5a8-fb7e-4d9f-9922-c6caaafca611": {
       "attrs": {
        "height": 0.8,
        "width": 0.8,
        "x": 0.1,
        "y": 0.1
       },
       "content": {
        "cell": "8e903fa2-c5a4-4cbb-8b24-ee328d0d1a24",
        "part": "whole"
       },
       "id": "c6f3c5a8-fb7e-4d9f-9922-c6caaafca611"
      }
     }
    },
    "f8fb43a4-c741-4612-b8cd-de0b5cce4d76": {
     "id": "f8fb43a4-c741-4612-b8cd-de0b5cce4d76",
     "prev": "dd93eaf1-8e9f-44ac-a05b-7cd8ba1a2967",
     "regions": {
      "9ea925ef-fe73-46e0-8c10-e878ca85caf7": {
       "attrs": {
        "height": 0.8,
        "width": 0.8,
        "x": 0.1,
        "y": 0.1
       },
       "content": {
        "cell": "c83e1e59-0681-4919-8e49-75fefe58f3fa",
        "part": "whole"
       },
       "id": "9ea925ef-fe73-46e0-8c10-e878ca85caf7"
      }
     }
    },
    "fae2ab31-1b65-425c-87dc-851ecce258bf": {
     "id": "fae2ab31-1b65-425c-87dc-851ecce258bf",
     "prev": "f8fb43a4-c741-4612-b8cd-de0b5cce4d76",
     "regions": {
      "a3d1169c-d3a9-488d-9c06-43505074f5d7": {
       "attrs": {
        "height": 0.8,
        "width": 0.8,
        "x": 0.1,
        "y": 0.1
       },
       "content": {
        "cell": "439d18a0-f69f-4602-9445-0d8d2db411be",
        "part": "whole"
       },
       "id": "a3d1169c-d3a9-488d-9c06-43505074f5d7"
      }
     }
    },
    "fd0b6506-4082-4e78-8bf3-464d50b7c4a5": {
     "id": "fd0b6506-4082-4e78-8bf3-464d50b7c4a5",
     "prev": "3cd49755-2d94-45ec-bf18-bcf2ca156d9e",
     "regions": {
      "f380b4ef-d03b-420d-90f0-c586aa1367fd": {
       "attrs": {
        "height": 0.8,
        "width": 0.8,
        "x": 0.1,
        "y": 0.1
       },
       "content": {
        "cell": "3c3a08a3-30ee-4e9c-b836-31daaca4d813",
        "part": "whole"
       },
       "id": "f380b4ef-d03b-420d-90f0-c586aa1367fd"
      }
     }
    },
    "fd360c03-1c8f-43c5-96de-6f2aeceb5483": {
     "id": "fd360c03-1c8f-43c5-96de-6f2aeceb5483",
     "prev": "1e8fb0f8-4082-4720-86da-b19d1fad0dcc",
     "regions": {
      "78156563-45b6-49f5-8f82-c88b58e429fb": {
       "attrs": {
        "height": 0.8,
        "width": 0.8,
        "x": 0.1,
        "y": 0.1
       },
       "content": {
        "cell": "f12d7cf3-3ab0-4a94-9e1d-f0ee0c340f77",
        "part": "whole"
       },
       "id": "78156563-45b6-49f5-8f82-c88b58e429fb"
      }
     }
    },
    "fdac0019-a462-4494-bd32-bd56c9ea5a54": {
     "id": "fdac0019-a462-4494-bd32-bd56c9ea5a54",
     "prev": "e6609793-aae8-4314-bd73-c3f36bbd5ddd",
     "regions": {
      "42f55d47-4400-460f-b3d8-d632f2bd5c72": {
       "attrs": {
        "height": 0.8,
        "width": 0.8,
        "x": 0.1,
        "y": 0.1
       },
       "content": {
        "cell": "24372d72-b894-4015-8899-a38ac032b331",
        "part": "whole"
       },
       "id": "42f55d47-4400-460f-b3d8-d632f2bd5c72"
      }
     }
    },
    "feb129a1-a347-41a8-83bf-59548f2d97b2": {
     "id": "feb129a1-a347-41a8-83bf-59548f2d97b2",
     "prev": "a2825863-1926-498a-8e71-6946ad36fca2",
     "regions": {
      "25645a74-4863-4f4a-8a6a-1edab007189e": {
       "attrs": {
        "height": 0.8,
        "width": 0.8,
        "x": 0.1,
        "y": 0.1
       },
       "content": {
        "cell": "c8e8a628-de87-4dbe-ac25-ba0e459882d7",
        "part": "whole"
       },
       "id": "25645a74-4863-4f4a-8a6a-1edab007189e"
      }
     }
    }
   },
   "themes": {}
  },
  "toc": {
   "nav_menu": {},
   "number_sections": true,
   "sideBar": true,
   "skip_h1_title": false,
   "toc_cell": false,
   "toc_position": {},
   "toc_section_display": "block",
   "toc_window_display": false
  }
 },
 "nbformat": 4,
 "nbformat_minor": 1
}
